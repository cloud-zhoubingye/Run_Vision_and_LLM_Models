{
  "cells": [
    {
      "cell_type": "markdown",
      "metadata": {},
      "source": [
        "# **Part1** is run in **Kaggle** with **P100**\n",
        "# **Part2** is run in **CoLab** with **T4**"
      ]
    },
    {
      "cell_type": "markdown",
      "metadata": {
        "id": "PFbUpH8elWQ7"
      },
      "source": [
        "# **Part 1: Run MobileNet on GPU**"
      ]
    },
    {
      "cell_type": "markdown",
      "metadata": {
        "id": "aoNr0MWd5e5m"
      },
      "source": [
        "In this tutorial, we will explore how to train a neural network with PyTorch."
      ]
    },
    {
      "cell_type": "markdown",
      "metadata": {
        "id": "yoBtxdvR5lwM"
      },
      "source": [
        "### Setup (5%)"
      ]
    },
    {
      "cell_type": "markdown",
      "metadata": {
        "id": "0oLGv2RjLYh2"
      },
      "source": [
        "We will first install a few packages that will be used in this tutorial and also define the path of CUDA library:"
      ]
    },
    {
      "cell_type": "code",
      "execution_count": null,
      "metadata": {
        "execution": {
          "iopub.execute_input": "2025-02-26T03:31:27.736750Z",
          "iopub.status.busy": "2025-02-26T03:31:27.736295Z",
          "iopub.status.idle": "2025-02-26T03:31:45.112919Z",
          "shell.execute_reply": "2025-02-26T03:31:45.111760Z",
          "shell.execute_reply.started": "2025-02-26T03:31:27.736711Z"
        },
        "id": "3r7Sl2cG7nZF",
        "outputId": "faedc1a7-59f2-4880-e27a-f6250a13c83f",
        "trusted": true
      },
      "outputs": [
        {
          "name": "stdout",
          "output_type": "stream",
          "text": [
            "Begin.\n"
          ]
        }
      ],
      "source": [
        "print('Begin.')\n",
        "!pip install torchprofile 1>/dev/null\n",
        "!ldconfig /usr/lib64-nvidia 2>/dev/null\n",
        "!pip install onnx 1>/dev/null\n",
        "!pip install onnxruntime 1>/dev/null"
      ]
    },
    {
      "cell_type": "markdown",
      "metadata": {
        "id": "LYgp0au_LeAd"
      },
      "source": [
        "We will then import a few libraries:"
      ]
    },
    {
      "cell_type": "code",
      "execution_count": null,
      "metadata": {
        "execution": {
          "iopub.execute_input": "2025-02-26T03:31:45.114686Z",
          "iopub.status.busy": "2025-02-26T03:31:45.114373Z",
          "iopub.status.idle": "2025-02-26T03:31:52.126199Z",
          "shell.execute_reply": "2025-02-26T03:31:52.125316Z",
          "shell.execute_reply.started": "2025-02-26T03:31:45.114646Z"
        },
        "id": "I3uAhaCSlFrK",
        "trusted": true
      },
      "outputs": [],
      "source": [
        "import random\n",
        "\n",
        "import numpy as np\n",
        "import torch\n",
        "import torchvision\n",
        "from torch import nn\n",
        "from torch.optim import *\n",
        "from torch.optim.lr_scheduler import *\n",
        "from torch.utils.data import DataLoader\n",
        "from torchprofile import profile_macs\n",
        "from torchvision.datasets import *\n",
        "from torchvision.transforms import *\n",
        "from tqdm.notebook import tqdm"
      ]
    },
    {
      "cell_type": "code",
      "execution_count": null,
      "metadata": {
        "execution": {
          "iopub.execute_input": "2025-02-26T03:31:52.128812Z",
          "iopub.status.busy": "2025-02-26T03:31:52.128308Z",
          "iopub.status.idle": "2025-02-26T03:31:52.134011Z",
          "shell.execute_reply": "2025-02-26T03:31:52.133045Z",
          "shell.execute_reply.started": "2025-02-26T03:31:52.128785Z"
        },
        "id": "D-nNU83gqm9U",
        "outputId": "fda6a22e-b451-4cc8-e32d-55dd3512ce3a",
        "trusted": true
      },
      "outputs": [
        {
          "name": "stdout",
          "output_type": "stream",
          "text": [
            "2.5.1+cu121\n",
            "0.20.1+cu121\n"
          ]
        }
      ],
      "source": [
        "print(torch.__version__)\n",
        "print(torchvision.__version__)"
      ]
    },
    {
      "cell_type": "markdown",
      "metadata": {
        "id": "u1Yx0rDUK5fx"
      },
      "source": [
        "To ensure the reproducibility, we will control the seed of random generators:"
      ]
    },
    {
      "cell_type": "code",
      "execution_count": null,
      "metadata": {
        "execution": {
          "iopub.execute_input": "2025-02-26T03:31:52.135835Z",
          "iopub.status.busy": "2025-02-26T03:31:52.135527Z",
          "iopub.status.idle": "2025-02-26T03:31:52.164209Z",
          "shell.execute_reply": "2025-02-26T03:31:52.163032Z",
          "shell.execute_reply.started": "2025-02-26T03:31:52.135807Z"
        },
        "id": "j_l1wEdeHOlu",
        "outputId": "37b1a390-4e97-4569-d721-fbcc16629df6",
        "trusted": true
      },
      "outputs": [
        {
          "data": {
            "text/plain": [
              "<torch._C.Generator at 0x790227322c50>"
            ]
          },
          "execution_count": 4,
          "metadata": {},
          "output_type": "execute_result"
        }
      ],
      "source": [
        "random.seed(0)\n",
        "np.random.seed(0)\n",
        "torch.manual_seed(0)"
      ]
    },
    {
      "cell_type": "markdown",
      "metadata": {
        "id": "JzMCWN0aJNvl"
      },
      "source": [
        "We must decide the HYPER-parameter before training the model:"
      ]
    },
    {
      "cell_type": "code",
      "execution_count": null,
      "metadata": {
        "execution": {
          "iopub.execute_input": "2025-02-26T03:31:52.165586Z",
          "iopub.status.busy": "2025-02-26T03:31:52.165186Z",
          "iopub.status.idle": "2025-02-26T03:31:52.169967Z",
          "shell.execute_reply": "2025-02-26T03:31:52.168890Z",
          "shell.execute_reply.started": "2025-02-26T03:31:52.165523Z"
        },
        "id": "AyLHUYWZJNCJ",
        "trusted": true
      },
      "outputs": [],
      "source": [
        "NUM_CLASSES = 10\n",
        "\n",
        "# TODO:\n",
        "# Decide your own hyper-parameters\n",
        "BATCH_SIZE = 128\n",
        "LEARNING_RATE = 4e-3\n",
        "NUM_EPOCH = 100"
      ]
    },
    {
      "cell_type": "markdown",
      "metadata": {
        "id": "u7Y0sLyajGAu"
      },
      "source": [
        "### Data  (5%)"
      ]
    },
    {
      "cell_type": "markdown",
      "metadata": {
        "id": "VAbL_li0KPsz"
      },
      "source": [
        "In this lab, we will use CIFAR-10 as our target dataset. This dataset contains images from 10 classes, where each image is of\n",
        "size 3x32x32, i.e. 3-channel color images of 32x32 pixels in size."
      ]
    },
    {
      "cell_type": "markdown",
      "metadata": {
        "id": "7PO2mP2GytNl"
      },
      "source": [
        "Before using the data as input, we can do data pre-processing with transform function:"
      ]
    },
    {
      "cell_type": "code",
      "execution_count": null,
      "metadata": {
        "execution": {
          "iopub.execute_input": "2025-02-26T03:31:52.171476Z",
          "iopub.status.busy": "2025-02-26T03:31:52.171122Z",
          "iopub.status.idle": "2025-02-26T03:31:58.362202Z",
          "shell.execute_reply": "2025-02-26T03:31:58.361367Z",
          "shell.execute_reply.started": "2025-02-26T03:31:52.171450Z"
        },
        "id": "Pqhy8EJSjJfp",
        "outputId": "d6a15221-e052-4fe0-9862-9dc66d3c63e3",
        "trusted": true
      },
      "outputs": [
        {
          "name": "stdout",
          "output_type": "stream",
          "text": [
            "Downloading https://www.cs.toronto.edu/~kriz/cifar-10-python.tar.gz to data/cifar10/cifar-10-python.tar.gz\n"
          ]
        },
        {
          "name": "stderr",
          "output_type": "stream",
          "text": [
            "100%|██████████| 170M/170M [00:02<00:00, 76.8MB/s] \n"
          ]
        },
        {
          "name": "stdout",
          "output_type": "stream",
          "text": [
            "Extracting data/cifar10/cifar-10-python.tar.gz to data/cifar10\n",
            "Files already downloaded and verified\n"
          ]
        }
      ],
      "source": [
        "# TODO:\n",
        "# Resize images to 224x224, i.e., the input image size of MobileNet,\n",
        "# Convert images to PyTorch tensors, and\n",
        "# Normalize the images with mean=[0.485, 0.456, 0.406], std=[0.229, 0.224, 0.225]\n",
        "transform = torchvision.transforms.Compose([\n",
        "  torchvision.transforms.Resize((224, 224)),\n",
        "  torchvision.transforms.ToTensor(),\n",
        "  torchvision.transforms.Normalize(mean=[0.485, 0.456, 0.406], std=[0.229, 0.224, 0.225]),\n",
        "])\n",
        "\n",
        "from torchvision.datasets import CIFAR10\n",
        "dataset = {}\n",
        "for split in [\"train\", \"test\"]:\n",
        "  dataset[split] = CIFAR10(\n",
        "    root=\"data/cifar10\",\n",
        "    train=(split == \"train\"),\n",
        "    download=True,\n",
        "    transform=transform,\n",
        "  )"
      ]
    },
    {
      "cell_type": "markdown",
      "metadata": {
        "id": "jkigVqADNeIN"
      },
      "source": [
        "To train a neural network, we will need to feed data in batches.\n",
        "\n",
        "We create data loaders with the batch size determined previously in setup section:"
      ]
    },
    {
      "cell_type": "code",
      "execution_count": null,
      "metadata": {
        "execution": {
          "iopub.execute_input": "2025-02-26T03:31:58.363439Z",
          "iopub.status.busy": "2025-02-26T03:31:58.363176Z",
          "iopub.status.idle": "2025-02-26T03:31:58.368520Z",
          "shell.execute_reply": "2025-02-26T03:31:58.367500Z",
          "shell.execute_reply.started": "2025-02-26T03:31:58.363417Z"
        },
        "id": "4axnQCtnks_s",
        "trusted": true
      },
      "outputs": [],
      "source": [
        "dataflow = {}\n",
        "for split in ['train', 'test']:\n",
        "  dataflow[split] = DataLoader(\n",
        "    dataset[split],\n",
        "    batch_size=BATCH_SIZE,\n",
        "    shuffle=(split == 'train'),\n",
        "    num_workers=3,\n",
        "    pin_memory=True,\n",
        "    drop_last=True\n",
        "  )"
      ]
    },
    {
      "cell_type": "markdown",
      "metadata": {
        "id": "_5G1Lf6hOLGT"
      },
      "source": [
        "We can print the data type and shape from the training data loader:"
      ]
    },
    {
      "cell_type": "code",
      "execution_count": null,
      "metadata": {
        "execution": {
          "iopub.execute_input": "2025-02-26T03:31:58.372635Z",
          "iopub.status.busy": "2025-02-26T03:31:58.372295Z",
          "iopub.status.idle": "2025-02-26T03:32:00.134543Z",
          "shell.execute_reply": "2025-02-26T03:32:00.133365Z",
          "shell.execute_reply.started": "2025-02-26T03:31:58.372610Z"
        },
        "id": "ReP2g9pD6ppI",
        "outputId": "12106547-4f95-4655-9af6-f81ebe73a17e",
        "trusted": true
      },
      "outputs": [
        {
          "name": "stdout",
          "output_type": "stream",
          "text": [
            "[inputs] dtype: torch.float32, shape: torch.Size([128, 3, 224, 224])\n",
            "[targets] dtype: torch.int64, shape: torch.Size([128])\n"
          ]
        }
      ],
      "source": [
        "for inputs, targets in dataflow[\"train\"]:\n",
        "  print(f\"[inputs] dtype: {inputs.dtype}, shape: {inputs.shape}\")\n",
        "  print(f\"[targets] dtype: {targets.dtype}, shape: {targets.shape}\")\n",
        "  break"
      ]
    },
    {
      "cell_type": "markdown",
      "metadata": {
        "id": "sPAEVnixjwb7"
      },
      "source": [
        "### Model (10%)"
      ]
    },
    {
      "cell_type": "markdown",
      "metadata": {
        "id": "rFr1Js3-e3rJ"
      },
      "source": [
        "In this tutorial, we will import MobileNet provided by torchvision, and use the pre-trained weight:"
      ]
    },
    {
      "cell_type": "code",
      "execution_count": null,
      "metadata": {
        "execution": {
          "iopub.execute_input": "2025-02-26T03:32:00.137529Z",
          "iopub.status.busy": "2025-02-26T03:32:00.137204Z",
          "iopub.status.idle": "2025-02-26T03:32:00.484738Z",
          "shell.execute_reply": "2025-02-26T03:32:00.483595Z",
          "shell.execute_reply.started": "2025-02-26T03:32:00.137503Z"
        },
        "id": "SNLdS_UQjyBf",
        "outputId": "5254f807-7089-40da-b26e-0e76fcbee7f6",
        "trusted": true
      },
      "outputs": [
        {
          "name": "stderr",
          "output_type": "stream",
          "text": [
            "Downloading: \"https://download.pytorch.org/models/mobilenet_v2-7ebf99e0.pth\" to /root/.cache/torch/hub/checkpoints/mobilenet_v2-7ebf99e0.pth\n",
            "100%|██████████| 13.6M/13.6M [00:00<00:00, 104MB/s] \n"
          ]
        }
      ],
      "source": [
        "# TODO:\n",
        "# Load pre-trained MobileNetV2\n",
        "from torchvision.models import mobilenet_v2, MobileNet_V2_Weights\n",
        "\n",
        "model = mobilenet_v2(weights=MobileNet_V2_Weights.DEFAULT)\n",
        "\n",
        "# print(model)\n",
        "\n"
      ]
    },
    {
      "cell_type": "markdown",
      "metadata": {
        "id": "WB2X6czdV0px"
      },
      "source": [
        "You should observe that the output dimension of the classifier does not match the number of cleasses in CIFAR-10.\n",
        "\n",
        "Now change the output dimension of the classifer to number of classes:"
      ]
    },
    {
      "cell_type": "code",
      "execution_count": null,
      "metadata": {
        "execution": {
          "iopub.execute_input": "2025-02-26T03:32:00.486325Z",
          "iopub.status.busy": "2025-02-26T03:32:00.485933Z",
          "iopub.status.idle": "2025-02-26T03:32:00.510762Z",
          "shell.execute_reply": "2025-02-26T03:32:00.509931Z",
          "shell.execute_reply.started": "2025-02-26T03:32:00.486291Z"
        },
        "id": "Nmo4u51gVzXz",
        "trusted": true
      },
      "outputs": [],
      "source": [
        "# TODO:\n",
        "# Change the output dimension of the classifer to number of classes\n",
        "in_features = model.classifier[1].in_features\n",
        "model.classifier[1] = nn.Linear(in_features, NUM_CLASSES)\n",
        "\n",
        "# Send the model from cpu to gpu\n",
        "if not torch.cuda.is_available():\n",
        "    raise Exception(\"Cuda is not available.\")\n",
        "model = model.cuda()"
      ]
    },
    {
      "cell_type": "markdown",
      "metadata": {
        "id": "WEtm9nswWT1z"
      },
      "source": [
        "Now the output dimension of the classifer matches."
      ]
    },
    {
      "cell_type": "markdown",
      "metadata": {
        "id": "F_RcCWoQ8Kp1"
      },
      "source": [
        "As this course focuses on efficiency, we will then inspect its model size and (theoretical) computation cost.\n"
      ]
    },
    {
      "cell_type": "markdown",
      "metadata": {
        "id": "Zd4Xu-vMyz39"
      },
      "source": [
        "* The model size can be estimated by the number of trainable parameters:"
      ]
    },
    {
      "cell_type": "code",
      "execution_count": null,
      "metadata": {
        "execution": {
          "iopub.execute_input": "2025-02-26T03:32:00.511916Z",
          "iopub.status.busy": "2025-02-26T03:32:00.511669Z",
          "iopub.status.idle": "2025-02-26T03:32:00.518622Z",
          "shell.execute_reply": "2025-02-26T03:32:00.517553Z",
          "shell.execute_reply.started": "2025-02-26T03:32:00.511896Z"
        },
        "id": "4gTfqC0B7Uzi",
        "outputId": "6c869e08-38cc-4a82-ad47-ed2dbcc3ea48",
        "trusted": true
      },
      "outputs": [
        {
          "name": "stdout",
          "output_type": "stream",
          "text": [
            "#Params: 2236682\n"
          ]
        }
      ],
      "source": [
        "num_params = 0\n",
        "for param in model.parameters():\n",
        "  if param.requires_grad:\n",
        "    num_params += param.numel()\n",
        "print(\"#Params:\", num_params)"
      ]
    },
    {
      "cell_type": "markdown",
      "metadata": {
        "id": "uAZoIKIbzLa4"
      },
      "source": [
        "* The computation cost can be estimated by the number of [multiply–accumulate operations (MACs)](https://en.wikipedia.org/wiki/Multiply–accumulate_operation) using [TorchProfile](https://github.com/zhijian-liu/torchprofile), we will further use this profiling tool in the future labs ."
      ]
    },
    {
      "cell_type": "code",
      "execution_count": null,
      "metadata": {
        "execution": {
          "iopub.execute_input": "2025-02-26T03:32:00.520165Z",
          "iopub.status.busy": "2025-02-26T03:32:00.519750Z",
          "iopub.status.idle": "2025-02-26T03:32:01.813201Z",
          "shell.execute_reply": "2025-02-26T03:32:01.812242Z",
          "shell.execute_reply.started": "2025-02-26T03:32:00.520125Z"
        },
        "id": "OKVmyWCN7qpp",
        "outputId": "6082bf6e-38a0-42af-8acb-23713245fe5f",
        "trusted": true
      },
      "outputs": [
        {
          "name": "stdout",
          "output_type": "stream",
          "text": [
            "#MACs: 306186464\n"
          ]
        }
      ],
      "source": [
        "num_macs = profile_macs(model, torch.zeros(1, 3, 224, 224).cuda())\n",
        "print(\"#MACs:\", num_macs)"
      ]
    },
    {
      "cell_type": "markdown",
      "metadata": {
        "id": "OYkqpfejzxwq"
      },
      "source": [
        "This model has 2.2M parameters and requires 306M MACs for inference. We will work together in the next few labs to improve its efficiency."
      ]
    },
    {
      "cell_type": "markdown",
      "metadata": {
        "id": "gjDsY9_KkIjZ"
      },
      "source": [
        "### Optimization (10%)"
      ]
    },
    {
      "cell_type": "markdown",
      "metadata": {
        "id": "oRg_5KeKLHPj"
      },
      "source": [
        "As we are working on a classification problem, we will apply [cross entropy](https://en.wikipedia.org/wiki/Cross_entropy) as our loss function to optimize the model:"
      ]
    },
    {
      "cell_type": "code",
      "execution_count": null,
      "metadata": {
        "execution": {
          "iopub.execute_input": "2025-02-26T03:32:01.814534Z",
          "iopub.status.busy": "2025-02-26T03:32:01.814185Z",
          "iopub.status.idle": "2025-02-26T03:32:01.818820Z",
          "shell.execute_reply": "2025-02-26T03:32:01.817907Z",
          "shell.execute_reply.started": "2025-02-26T03:32:01.814503Z"
        },
        "id": "-K0DEhGKkKfF",
        "trusted": true
      },
      "outputs": [],
      "source": [
        "# TODO:\n",
        "# Apply cross entropy as our loss function\n",
        "criterion = torch.nn.CrossEntropyLoss()"
      ]
    },
    {
      "cell_type": "markdown",
      "metadata": {
        "id": "3H8YniYeLIdg"
      },
      "source": [
        "We should decide an optimizer for the model:"
      ]
    },
    {
      "cell_type": "code",
      "execution_count": null,
      "metadata": {
        "execution": {
          "iopub.execute_input": "2025-02-26T03:32:01.820065Z",
          "iopub.status.busy": "2025-02-26T03:32:01.819741Z",
          "iopub.status.idle": "2025-02-26T03:32:01.839138Z",
          "shell.execute_reply": "2025-02-26T03:32:01.837923Z",
          "shell.execute_reply.started": "2025-02-26T03:32:01.820028Z"
        },
        "id": "HXANib83LATH",
        "trusted": true
      },
      "outputs": [],
      "source": [
        "# TODO:\n",
        "# Choose an optimizer.\n",
        "\n",
        "optimizer = torch.optim.SGD(model.parameters(), lr=LEARNING_RATE)"
      ]
    },
    {
      "cell_type": "markdown",
      "metadata": {
        "id": "v9X8SiWYLJw2"
      },
      "source": [
        "(Optional) We can apply a learning rate scheduler during the training:"
      ]
    },
    {
      "cell_type": "code",
      "execution_count": null,
      "metadata": {
        "execution": {
          "iopub.execute_input": "2025-02-26T03:32:01.840603Z",
          "iopub.status.busy": "2025-02-26T03:32:01.840246Z",
          "iopub.status.idle": "2025-02-26T03:32:01.857816Z",
          "shell.execute_reply": "2025-02-26T03:32:01.856392Z",
          "shell.execute_reply.started": "2025-02-26T03:32:01.840576Z"
        },
        "id": "8mJU5aw8KrVX",
        "trusted": true
      },
      "outputs": [],
      "source": [
        "# TODO(optional):\n",
        "# 余弦退火\n",
        "scheduler = torch.optim.lr_scheduler.CosineAnnealingLR(optimizer, T_max=NUM_EPOCH)"
      ]
    },
    {
      "cell_type": "markdown",
      "metadata": {
        "id": "i2UFRbRYly50"
      },
      "source": [
        "### Training (25%)"
      ]
    },
    {
      "cell_type": "markdown",
      "metadata": {
        "id": "IpHZJpjR7Wy3"
      },
      "source": [
        "We first define the function that optimizes the model for one batch:"
      ]
    },
    {
      "cell_type": "code",
      "execution_count": null,
      "metadata": {
        "execution": {
          "iopub.execute_input": "2025-02-26T03:32:01.859318Z",
          "iopub.status.busy": "2025-02-26T03:32:01.858979Z",
          "iopub.status.idle": "2025-02-26T03:32:01.875337Z",
          "shell.execute_reply": "2025-02-26T03:32:01.874181Z",
          "shell.execute_reply.started": "2025-02-26T03:32:01.859291Z"
        },
        "id": "79GKx_oVl09b",
        "trusted": true
      },
      "outputs": [],
      "source": [
        "import torch\n",
        "from torch.cuda.amp import autocast, GradScaler\n",
        "\n",
        "def train_one_batch(\n",
        "  model: nn.Module,\n",
        "  criterion: nn.Module,\n",
        "  optimizer,\n",
        "  inputs: torch.Tensor,\n",
        "  targets: torch.Tensor,\n",
        "  scheduler,\n",
        "  scaler\n",
        ") -> None:\n",
        "\n",
        "    # Step 1: Reset the gradients\n",
        "    optimizer.zero_grad()\n",
        "\n",
        "    # Step 2: Forward inference\n",
        "    with torch.amp.autocast('cuda'):\n",
        "        output = model(inputs)\n",
        "        # Step 3: Calculate the loss\n",
        "        loss = criterion(output, targets)\n",
        "\n",
        "    # Step 4: Backward propagation\n",
        "    scaler.scale(loss).backward()\n",
        "\n",
        "    # Step 5: Update optimizer\n",
        "    scaler.step(optimizer)\n",
        "    scaler.update()\n",
        "\n",
        "    # (Optional Step 6: scheduler)\n",
        "    scheduler.step()\n",
        "\n",
        "    return loss.cpu().detach().numpy()\n"
      ]
    },
    {
      "cell_type": "markdown",
      "metadata": {
        "id": "3kePTCanalUE"
      },
      "source": [
        "We then define the training function:"
      ]
    },
    {
      "cell_type": "code",
      "execution_count": null,
      "metadata": {
        "execution": {
          "iopub.execute_input": "2025-02-26T03:32:01.876901Z",
          "iopub.status.busy": "2025-02-26T03:32:01.876532Z",
          "iopub.status.idle": "2025-02-26T03:32:01.892808Z",
          "shell.execute_reply": "2025-02-26T03:32:01.891683Z",
          "shell.execute_reply.started": "2025-02-26T03:32:01.876865Z"
        },
        "id": "4SWx96SGajDR",
        "trusted": true
      },
      "outputs": [],
      "source": [
        "def train(\n",
        "    model: nn.Module,\n",
        "    dataflow: DataLoader,\n",
        "    criterion: nn.Module,\n",
        "    optimizer,\n",
        "    scheduler\n",
        "):\n",
        "\n",
        "    model.train()\n",
        "    n_data = 0\n",
        "    total_loss = 0.0\n",
        "    scaler = torch.amp.GradScaler('cuda')\n",
        "\n",
        "    for inputs, targets in tqdm(dataflow, desc='train', leave=False):\n",
        "        # Move the data from CPU to GPU\n",
        "        inputs = inputs.cuda()\n",
        "        targets = targets.cuda()\n",
        "\n",
        "        # Call train_one_batch function with the scaler\n",
        "        loss_batch = train_one_batch(model, criterion, optimizer, inputs, targets, scheduler, scaler)\n",
        "        total_loss += loss_batch\n",
        "        n_data += 1\n",
        "\n",
        "    return total_loss / n_data\n"
      ]
    },
    {
      "cell_type": "markdown",
      "metadata": {
        "id": "QGaYWFFCbD32"
      },
      "source": [
        "Last, we define the evaluation function:"
      ]
    },
    {
      "cell_type": "code",
      "execution_count": null,
      "metadata": {
        "execution": {
          "iopub.execute_input": "2025-02-26T03:32:01.894272Z",
          "iopub.status.busy": "2025-02-26T03:32:01.893899Z",
          "iopub.status.idle": "2025-02-26T03:32:01.913899Z",
          "shell.execute_reply": "2025-02-26T03:32:01.913003Z",
          "shell.execute_reply.started": "2025-02-26T03:32:01.894241Z"
        },
        "id": "hXVXHqimbOIo",
        "trusted": true
      },
      "outputs": [],
      "source": [
        "def evaluate(\n",
        "  model: nn.Module,\n",
        "  dataflow: DataLoader\n",
        ") -> float:\n",
        "\n",
        "    model.eval()\n",
        "    num_samples = 0\n",
        "    num_correct = 0\n",
        "\n",
        "    with torch.no_grad():\n",
        "        for inputs, targets in tqdm(dataflow, desc=\"eval\", leave=False):\n",
        "            # TODO:\n",
        "            # Step 1: Move the data from CPU to GPU\n",
        "            inputs, targets = inputs.cuda(), targets.cuda()\n",
        "            # Step 2: Forward inference\n",
        "            output = model(inputs)\n",
        "            # Step 3: Convert logits to class indices (predicted class)\n",
        "            predicts = output.argmax(dim=1)\n",
        "            # Update metrics\n",
        "            num_samples += targets.size(0)\n",
        "            num_correct += (predicts == targets).sum()\n",
        "\n",
        "    return (num_correct / num_samples * 100).item()"
      ]
    },
    {
      "cell_type": "markdown",
      "metadata": {
        "id": "HWCOYuj5cNg3"
      },
      "source": [
        "With training and evaluation functions, we can finally start training the model!\n",
        "\n",
        "If the training is done properly, the accuracy should simply reach higher than 0.925:\n",
        "\n",
        "***Please screenshot the output model accuracy, hand in as YourID_acc_1.png***"
      ]
    },
    {
      "cell_type": "code",
      "execution_count": null,
      "metadata": {
        "colab": {
          "referenced_widgets": [
            "da92f5c4b9bc4e10b33647c351976781",
            "",
            "7ce44eb889154bdf9ac602b945ec16a3",
            "e7f2c890620449c18bbf380f895a0859",
            "788fb7fe741544ef97c7a1efc9c14c2f",
            "8ab55138d0d541ac89c9338eb094b65e",
            "b2ddd2ed549a429883cfd9b46d14daa9",
            "a985a7d71a37419881ec070f93ad00c2",
            "895874a6bf9243e4bf9e424b5cdfc4b0",
            "4ee4545d66d541f292e51d338a10191a",
            "5b71276603dc452ba27652f5ac769bd5"
          ]
        },
        "execution": {
          "iopub.execute_input": "2025-02-26T03:32:01.915221Z",
          "iopub.status.busy": "2025-02-26T03:32:01.914849Z",
          "iopub.status.idle": "2025-02-26T04:42:05.280478Z",
          "shell.execute_reply": "2025-02-26T04:42:05.279566Z",
          "shell.execute_reply.started": "2025-02-26T03:32:01.915188Z"
        },
        "id": "czZObK4OcPD-",
        "outputId": "d06890c2-0924-41d6-fd94-f2e7f4b04f2a",
        "trusted": true
      },
      "outputs": [
        {
          "data": {
            "application/vnd.jupyter.widget-view+json": {
              "model_id": "da92f5c4b9bc4e10b33647c351976781",
              "version_major": 2,
              "version_minor": 0
            },
            "text/plain": [
              "  0%|          | 0/100 [00:00<?, ?it/s]"
            ]
          },
          "metadata": {},
          "output_type": "display_data"
        },
        {
          "data": {
            "application/vnd.jupyter.widget-view+json": {
              "model_id": "",
              "version_major": 2,
              "version_minor": 0
            },
            "text/plain": [
              "train:   0%|          | 0/390 [00:00<?, ?it/s]"
            ]
          },
          "metadata": {},
          "output_type": "display_data"
        },
        {
          "data": {
            "application/vnd.jupyter.widget-view+json": {
              "model_id": "",
              "version_major": 2,
              "version_minor": 0
            },
            "text/plain": [
              "eval:   0%|          | 0/78 [00:00<?, ?it/s]"
            ]
          },
          "metadata": {},
          "output_type": "display_data"
        },
        {
          "name": "stdout",
          "output_type": "stream",
          "text": [
            "epoch: 1, loss: 2.111910, acc: 56.5004\n"
          ]
        },
        {
          "data": {
            "application/vnd.jupyter.widget-view+json": {
              "model_id": "",
              "version_major": 2,
              "version_minor": 0
            },
            "text/plain": [
              "train:   0%|          | 0/390 [00:00<?, ?it/s]"
            ]
          },
          "metadata": {},
          "output_type": "display_data"
        },
        {
          "data": {
            "application/vnd.jupyter.widget-view+json": {
              "model_id": "",
              "version_major": 2,
              "version_minor": 0
            },
            "text/plain": [
              "eval:   0%|          | 0/78 [00:00<?, ?it/s]"
            ]
          },
          "metadata": {},
          "output_type": "display_data"
        },
        {
          "name": "stdout",
          "output_type": "stream",
          "text": [
            "epoch: 2, loss: 1.551154, acc: 70.0721\n"
          ]
        },
        {
          "data": {
            "application/vnd.jupyter.widget-view+json": {
              "model_id": "",
              "version_major": 2,
              "version_minor": 0
            },
            "text/plain": [
              "train:   0%|          | 0/390 [00:00<?, ?it/s]"
            ]
          },
          "metadata": {},
          "output_type": "display_data"
        },
        {
          "data": {
            "application/vnd.jupyter.widget-view+json": {
              "model_id": "",
              "version_major": 2,
              "version_minor": 0
            },
            "text/plain": [
              "eval:   0%|          | 0/78 [00:00<?, ?it/s]"
            ]
          },
          "metadata": {},
          "output_type": "display_data"
        },
        {
          "name": "stdout",
          "output_type": "stream",
          "text": [
            "epoch: 3, loss: 1.052189, acc: 75.1603\n"
          ]
        },
        {
          "data": {
            "application/vnd.jupyter.widget-view+json": {
              "model_id": "",
              "version_major": 2,
              "version_minor": 0
            },
            "text/plain": [
              "train:   0%|          | 0/390 [00:00<?, ?it/s]"
            ]
          },
          "metadata": {},
          "output_type": "display_data"
        },
        {
          "data": {
            "application/vnd.jupyter.widget-view+json": {
              "model_id": "",
              "version_major": 2,
              "version_minor": 0
            },
            "text/plain": [
              "eval:   0%|          | 0/78 [00:00<?, ?it/s]"
            ]
          },
          "metadata": {},
          "output_type": "display_data"
        },
        {
          "name": "stdout",
          "output_type": "stream",
          "text": [
            "epoch: 4, loss: 0.796599, acc: 78.7260\n"
          ]
        },
        {
          "data": {
            "application/vnd.jupyter.widget-view+json": {
              "model_id": "",
              "version_major": 2,
              "version_minor": 0
            },
            "text/plain": [
              "train:   0%|          | 0/390 [00:00<?, ?it/s]"
            ]
          },
          "metadata": {},
          "output_type": "display_data"
        },
        {
          "data": {
            "application/vnd.jupyter.widget-view+json": {
              "model_id": "",
              "version_major": 2,
              "version_minor": 0
            },
            "text/plain": [
              "eval:   0%|          | 0/78 [00:00<?, ?it/s]"
            ]
          },
          "metadata": {},
          "output_type": "display_data"
        },
        {
          "name": "stdout",
          "output_type": "stream",
          "text": [
            "epoch: 5, loss: 0.659948, acc: 81.8009\n"
          ]
        },
        {
          "data": {
            "application/vnd.jupyter.widget-view+json": {
              "model_id": "",
              "version_major": 2,
              "version_minor": 0
            },
            "text/plain": [
              "train:   0%|          | 0/390 [00:00<?, ?it/s]"
            ]
          },
          "metadata": {},
          "output_type": "display_data"
        },
        {
          "data": {
            "application/vnd.jupyter.widget-view+json": {
              "model_id": "",
              "version_major": 2,
              "version_minor": 0
            },
            "text/plain": [
              "eval:   0%|          | 0/78 [00:00<?, ?it/s]"
            ]
          },
          "metadata": {},
          "output_type": "display_data"
        },
        {
          "name": "stdout",
          "output_type": "stream",
          "text": [
            "epoch: 6, loss: 0.568719, acc: 83.6639\n"
          ]
        },
        {
          "data": {
            "application/vnd.jupyter.widget-view+json": {
              "model_id": "",
              "version_major": 2,
              "version_minor": 0
            },
            "text/plain": [
              "train:   0%|          | 0/390 [00:00<?, ?it/s]"
            ]
          },
          "metadata": {},
          "output_type": "display_data"
        },
        {
          "data": {
            "application/vnd.jupyter.widget-view+json": {
              "model_id": "",
              "version_major": 2,
              "version_minor": 0
            },
            "text/plain": [
              "eval:   0%|          | 0/78 [00:00<?, ?it/s]"
            ]
          },
          "metadata": {},
          "output_type": "display_data"
        },
        {
          "name": "stdout",
          "output_type": "stream",
          "text": [
            "epoch: 7, loss: 0.502712, acc: 85.0861\n"
          ]
        },
        {
          "data": {
            "application/vnd.jupyter.widget-view+json": {
              "model_id": "",
              "version_major": 2,
              "version_minor": 0
            },
            "text/plain": [
              "train:   0%|          | 0/390 [00:00<?, ?it/s]"
            ]
          },
          "metadata": {},
          "output_type": "display_data"
        },
        {
          "data": {
            "application/vnd.jupyter.widget-view+json": {
              "model_id": "",
              "version_major": 2,
              "version_minor": 0
            },
            "text/plain": [
              "eval:   0%|          | 0/78 [00:00<?, ?it/s]"
            ]
          },
          "metadata": {},
          "output_type": "display_data"
        },
        {
          "name": "stdout",
          "output_type": "stream",
          "text": [
            "epoch: 8, loss: 0.453088, acc: 86.1078\n"
          ]
        },
        {
          "data": {
            "application/vnd.jupyter.widget-view+json": {
              "model_id": "",
              "version_major": 2,
              "version_minor": 0
            },
            "text/plain": [
              "train:   0%|          | 0/390 [00:00<?, ?it/s]"
            ]
          },
          "metadata": {},
          "output_type": "display_data"
        },
        {
          "data": {
            "application/vnd.jupyter.widget-view+json": {
              "model_id": "",
              "version_major": 2,
              "version_minor": 0
            },
            "text/plain": [
              "eval:   0%|          | 0/78 [00:00<?, ?it/s]"
            ]
          },
          "metadata": {},
          "output_type": "display_data"
        },
        {
          "name": "stdout",
          "output_type": "stream",
          "text": [
            "epoch: 9, loss: 0.415023, acc: 86.9691\n"
          ]
        },
        {
          "data": {
            "application/vnd.jupyter.widget-view+json": {
              "model_id": "",
              "version_major": 2,
              "version_minor": 0
            },
            "text/plain": [
              "train:   0%|          | 0/390 [00:00<?, ?it/s]"
            ]
          },
          "metadata": {},
          "output_type": "display_data"
        },
        {
          "data": {
            "application/vnd.jupyter.widget-view+json": {
              "model_id": "",
              "version_major": 2,
              "version_minor": 0
            },
            "text/plain": [
              "eval:   0%|          | 0/78 [00:00<?, ?it/s]"
            ]
          },
          "metadata": {},
          "output_type": "display_data"
        },
        {
          "name": "stdout",
          "output_type": "stream",
          "text": [
            "epoch: 10, loss: 0.384532, acc: 87.8305\n"
          ]
        },
        {
          "data": {
            "application/vnd.jupyter.widget-view+json": {
              "model_id": "",
              "version_major": 2,
              "version_minor": 0
            },
            "text/plain": [
              "train:   0%|          | 0/390 [00:00<?, ?it/s]"
            ]
          },
          "metadata": {},
          "output_type": "display_data"
        },
        {
          "data": {
            "application/vnd.jupyter.widget-view+json": {
              "model_id": "",
              "version_major": 2,
              "version_minor": 0
            },
            "text/plain": [
              "eval:   0%|          | 0/78 [00:00<?, ?it/s]"
            ]
          },
          "metadata": {},
          "output_type": "display_data"
        },
        {
          "name": "stdout",
          "output_type": "stream",
          "text": [
            "epoch: 11, loss: 0.357514, acc: 88.2913\n"
          ]
        },
        {
          "data": {
            "application/vnd.jupyter.widget-view+json": {
              "model_id": "",
              "version_major": 2,
              "version_minor": 0
            },
            "text/plain": [
              "train:   0%|          | 0/390 [00:00<?, ?it/s]"
            ]
          },
          "metadata": {},
          "output_type": "display_data"
        },
        {
          "data": {
            "application/vnd.jupyter.widget-view+json": {
              "model_id": "",
              "version_major": 2,
              "version_minor": 0
            },
            "text/plain": [
              "eval:   0%|          | 0/78 [00:00<?, ?it/s]"
            ]
          },
          "metadata": {},
          "output_type": "display_data"
        },
        {
          "name": "stdout",
          "output_type": "stream",
          "text": [
            "epoch: 12, loss: 0.335523, acc: 88.9824\n"
          ]
        },
        {
          "data": {
            "application/vnd.jupyter.widget-view+json": {
              "model_id": "",
              "version_major": 2,
              "version_minor": 0
            },
            "text/plain": [
              "train:   0%|          | 0/390 [00:00<?, ?it/s]"
            ]
          },
          "metadata": {},
          "output_type": "display_data"
        },
        {
          "data": {
            "application/vnd.jupyter.widget-view+json": {
              "model_id": "",
              "version_major": 2,
              "version_minor": 0
            },
            "text/plain": [
              "eval:   0%|          | 0/78 [00:00<?, ?it/s]"
            ]
          },
          "metadata": {},
          "output_type": "display_data"
        },
        {
          "name": "stdout",
          "output_type": "stream",
          "text": [
            "epoch: 13, loss: 0.316275, acc: 89.1526\n"
          ]
        },
        {
          "data": {
            "application/vnd.jupyter.widget-view+json": {
              "model_id": "",
              "version_major": 2,
              "version_minor": 0
            },
            "text/plain": [
              "train:   0%|          | 0/390 [00:00<?, ?it/s]"
            ]
          },
          "metadata": {},
          "output_type": "display_data"
        },
        {
          "data": {
            "application/vnd.jupyter.widget-view+json": {
              "model_id": "",
              "version_major": 2,
              "version_minor": 0
            },
            "text/plain": [
              "eval:   0%|          | 0/78 [00:00<?, ?it/s]"
            ]
          },
          "metadata": {},
          "output_type": "display_data"
        },
        {
          "name": "stdout",
          "output_type": "stream",
          "text": [
            "epoch: 14, loss: 0.303763, acc: 89.5433\n"
          ]
        },
        {
          "data": {
            "application/vnd.jupyter.widget-view+json": {
              "model_id": "",
              "version_major": 2,
              "version_minor": 0
            },
            "text/plain": [
              "train:   0%|          | 0/390 [00:00<?, ?it/s]"
            ]
          },
          "metadata": {},
          "output_type": "display_data"
        },
        {
          "data": {
            "application/vnd.jupyter.widget-view+json": {
              "model_id": "",
              "version_major": 2,
              "version_minor": 0
            },
            "text/plain": [
              "eval:   0%|          | 0/78 [00:00<?, ?it/s]"
            ]
          },
          "metadata": {},
          "output_type": "display_data"
        },
        {
          "name": "stdout",
          "output_type": "stream",
          "text": [
            "epoch: 15, loss: 0.288680, acc: 89.5332\n"
          ]
        },
        {
          "data": {
            "application/vnd.jupyter.widget-view+json": {
              "model_id": "",
              "version_major": 2,
              "version_minor": 0
            },
            "text/plain": [
              "train:   0%|          | 0/390 [00:00<?, ?it/s]"
            ]
          },
          "metadata": {},
          "output_type": "display_data"
        },
        {
          "data": {
            "application/vnd.jupyter.widget-view+json": {
              "model_id": "",
              "version_major": 2,
              "version_minor": 0
            },
            "text/plain": [
              "eval:   0%|          | 0/78 [00:00<?, ?it/s]"
            ]
          },
          "metadata": {},
          "output_type": "display_data"
        },
        {
          "name": "stdout",
          "output_type": "stream",
          "text": [
            "epoch: 16, loss: 0.272876, acc: 89.8938\n"
          ]
        },
        {
          "data": {
            "application/vnd.jupyter.widget-view+json": {
              "model_id": "",
              "version_major": 2,
              "version_minor": 0
            },
            "text/plain": [
              "train:   0%|          | 0/390 [00:00<?, ?it/s]"
            ]
          },
          "metadata": {},
          "output_type": "display_data"
        },
        {
          "data": {
            "application/vnd.jupyter.widget-view+json": {
              "model_id": "7ce44eb889154bdf9ac602b945ec16a3",
              "version_major": 2,
              "version_minor": 0
            },
            "text/plain": [
              "eval:   0%|          | 0/78 [00:00<?, ?it/s]"
            ]
          },
          "metadata": {},
          "output_type": "display_data"
        },
        {
          "name": "stdout",
          "output_type": "stream",
          "text": [
            "epoch: 17, loss: 0.259297, acc: 90.1442\n"
          ]
        },
        {
          "data": {
            "application/vnd.jupyter.widget-view+json": {
              "model_id": "e7f2c890620449c18bbf380f895a0859",
              "version_major": 2,
              "version_minor": 0
            },
            "text/plain": [
              "train:   0%|          | 0/390 [00:00<?, ?it/s]"
            ]
          },
          "metadata": {},
          "output_type": "display_data"
        },
        {
          "data": {
            "application/vnd.jupyter.widget-view+json": {
              "model_id": "788fb7fe741544ef97c7a1efc9c14c2f",
              "version_major": 2,
              "version_minor": 0
            },
            "text/plain": [
              "eval:   0%|          | 0/78 [00:00<?, ?it/s]"
            ]
          },
          "metadata": {},
          "output_type": "display_data"
        },
        {
          "name": "stdout",
          "output_type": "stream",
          "text": [
            "epoch: 18, loss: 0.248396, acc: 90.4948\n"
          ]
        },
        {
          "data": {
            "application/vnd.jupyter.widget-view+json": {
              "model_id": "8ab55138d0d541ac89c9338eb094b65e",
              "version_major": 2,
              "version_minor": 0
            },
            "text/plain": [
              "train:   0%|          | 0/390 [00:00<?, ?it/s]"
            ]
          },
          "metadata": {},
          "output_type": "display_data"
        },
        {
          "data": {
            "application/vnd.jupyter.widget-view+json": {
              "model_id": "b2ddd2ed549a429883cfd9b46d14daa9",
              "version_major": 2,
              "version_minor": 0
            },
            "text/plain": [
              "eval:   0%|          | 0/78 [00:00<?, ?it/s]"
            ]
          },
          "metadata": {},
          "output_type": "display_data"
        },
        {
          "name": "stdout",
          "output_type": "stream",
          "text": [
            "epoch: 19, loss: 0.239228, acc: 90.7752\n"
          ]
        },
        {
          "data": {
            "application/vnd.jupyter.widget-view+json": {
              "model_id": "a985a7d71a37419881ec070f93ad00c2",
              "version_major": 2,
              "version_minor": 0
            },
            "text/plain": [
              "train:   0%|          | 0/390 [00:00<?, ?it/s]"
            ]
          },
          "metadata": {},
          "output_type": "display_data"
        },
        {
          "data": {
            "application/vnd.jupyter.widget-view+json": {
              "model_id": "895874a6bf9243e4bf9e424b5cdfc4b0",
              "version_major": 2,
              "version_minor": 0
            },
            "text/plain": [
              "eval:   0%|          | 0/78 [00:00<?, ?it/s]"
            ]
          },
          "metadata": {},
          "output_type": "display_data"
        },
        {
          "name": "stdout",
          "output_type": "stream",
          "text": [
            "epoch: 20, loss: 0.228160, acc: 90.4748\n"
          ]
        },
        {
          "data": {
            "application/vnd.jupyter.widget-view+json": {
              "model_id": "4ee4545d66d541f292e51d338a10191a",
              "version_major": 2,
              "version_minor": 0
            },
            "text/plain": [
              "train:   0%|          | 0/390 [00:00<?, ?it/s]"
            ]
          },
          "metadata": {},
          "output_type": "display_data"
        },
        {
          "data": {
            "application/vnd.jupyter.widget-view+json": {
              "model_id": "5b71276603dc452ba27652f5ac769bd5",
              "version_major": 2,
              "version_minor": 0
            },
            "text/plain": [
              "eval:   0%|          | 0/78 [00:00<?, ?it/s]"
            ]
          },
          "metadata": {},
          "output_type": "display_data"
        },
        {
          "name": "stdout",
          "output_type": "stream",
          "text": [
            "epoch: 21, loss: 0.218777, acc: 90.8954\n"
          ]
        },
        {
          "data": {
            "application/vnd.jupyter.widget-view+json": {
              "model_id": "",
              "version_major": 2,
              "version_minor": 0
            },
            "text/plain": [
              "train:   0%|          | 0/390 [00:00<?, ?it/s]"
            ]
          },
          "metadata": {},
          "output_type": "display_data"
        },
        {
          "data": {
            "application/vnd.jupyter.widget-view+json": {
              "model_id": "",
              "version_major": 2,
              "version_minor": 0
            },
            "text/plain": [
              "eval:   0%|          | 0/78 [00:00<?, ?it/s]"
            ]
          },
          "metadata": {},
          "output_type": "display_data"
        },
        {
          "name": "stdout",
          "output_type": "stream",
          "text": [
            "epoch: 22, loss: 0.212095, acc: 90.9455\n"
          ]
        },
        {
          "data": {
            "application/vnd.jupyter.widget-view+json": {
              "model_id": "",
              "version_major": 2,
              "version_minor": 0
            },
            "text/plain": [
              "train:   0%|          | 0/390 [00:00<?, ?it/s]"
            ]
          },
          "metadata": {},
          "output_type": "display_data"
        },
        {
          "data": {
            "application/vnd.jupyter.widget-view+json": {
              "model_id": "",
              "version_major": 2,
              "version_minor": 0
            },
            "text/plain": [
              "eval:   0%|          | 0/78 [00:00<?, ?it/s]"
            ]
          },
          "metadata": {},
          "output_type": "display_data"
        },
        {
          "name": "stdout",
          "output_type": "stream",
          "text": [
            "epoch: 23, loss: 0.202758, acc: 90.8454\n"
          ]
        },
        {
          "data": {
            "application/vnd.jupyter.widget-view+json": {
              "model_id": "",
              "version_major": 2,
              "version_minor": 0
            },
            "text/plain": [
              "train:   0%|          | 0/390 [00:00<?, ?it/s]"
            ]
          },
          "metadata": {},
          "output_type": "display_data"
        },
        {
          "data": {
            "application/vnd.jupyter.widget-view+json": {
              "model_id": "",
              "version_major": 2,
              "version_minor": 0
            },
            "text/plain": [
              "eval:   0%|          | 0/78 [00:00<?, ?it/s]"
            ]
          },
          "metadata": {},
          "output_type": "display_data"
        },
        {
          "name": "stdout",
          "output_type": "stream",
          "text": [
            "epoch: 24, loss: 0.194558, acc: 91.5966\n"
          ]
        },
        {
          "data": {
            "application/vnd.jupyter.widget-view+json": {
              "model_id": "",
              "version_major": 2,
              "version_minor": 0
            },
            "text/plain": [
              "train:   0%|          | 0/390 [00:00<?, ?it/s]"
            ]
          },
          "metadata": {},
          "output_type": "display_data"
        },
        {
          "data": {
            "application/vnd.jupyter.widget-view+json": {
              "model_id": "",
              "version_major": 2,
              "version_minor": 0
            },
            "text/plain": [
              "eval:   0%|          | 0/78 [00:00<?, ?it/s]"
            ]
          },
          "metadata": {},
          "output_type": "display_data"
        },
        {
          "name": "stdout",
          "output_type": "stream",
          "text": [
            "epoch: 25, loss: 0.187069, acc: 91.6266\n"
          ]
        },
        {
          "data": {
            "application/vnd.jupyter.widget-view+json": {
              "model_id": "",
              "version_major": 2,
              "version_minor": 0
            },
            "text/plain": [
              "train:   0%|          | 0/390 [00:00<?, ?it/s]"
            ]
          },
          "metadata": {},
          "output_type": "display_data"
        },
        {
          "data": {
            "application/vnd.jupyter.widget-view+json": {
              "model_id": "",
              "version_major": 2,
              "version_minor": 0
            },
            "text/plain": [
              "eval:   0%|          | 0/78 [00:00<?, ?it/s]"
            ]
          },
          "metadata": {},
          "output_type": "display_data"
        },
        {
          "name": "stdout",
          "output_type": "stream",
          "text": [
            "epoch: 26, loss: 0.182133, acc: 91.7468\n"
          ]
        },
        {
          "data": {
            "application/vnd.jupyter.widget-view+json": {
              "model_id": "",
              "version_major": 2,
              "version_minor": 0
            },
            "text/plain": [
              "train:   0%|          | 0/390 [00:00<?, ?it/s]"
            ]
          },
          "metadata": {},
          "output_type": "display_data"
        },
        {
          "data": {
            "application/vnd.jupyter.widget-view+json": {
              "model_id": "",
              "version_major": 2,
              "version_minor": 0
            },
            "text/plain": [
              "eval:   0%|          | 0/78 [00:00<?, ?it/s]"
            ]
          },
          "metadata": {},
          "output_type": "display_data"
        },
        {
          "name": "stdout",
          "output_type": "stream",
          "text": [
            "epoch: 27, loss: 0.175187, acc: 91.7268\n"
          ]
        },
        {
          "data": {
            "application/vnd.jupyter.widget-view+json": {
              "model_id": "",
              "version_major": 2,
              "version_minor": 0
            },
            "text/plain": [
              "train:   0%|          | 0/390 [00:00<?, ?it/s]"
            ]
          },
          "metadata": {},
          "output_type": "display_data"
        },
        {
          "data": {
            "application/vnd.jupyter.widget-view+json": {
              "model_id": "",
              "version_major": 2,
              "version_minor": 0
            },
            "text/plain": [
              "eval:   0%|          | 0/78 [00:00<?, ?it/s]"
            ]
          },
          "metadata": {},
          "output_type": "display_data"
        },
        {
          "name": "stdout",
          "output_type": "stream",
          "text": [
            "epoch: 28, loss: 0.171883, acc: 92.0072\n"
          ]
        },
        {
          "data": {
            "application/vnd.jupyter.widget-view+json": {
              "model_id": "",
              "version_major": 2,
              "version_minor": 0
            },
            "text/plain": [
              "train:   0%|          | 0/390 [00:00<?, ?it/s]"
            ]
          },
          "metadata": {},
          "output_type": "display_data"
        },
        {
          "data": {
            "application/vnd.jupyter.widget-view+json": {
              "model_id": "",
              "version_major": 2,
              "version_minor": 0
            },
            "text/plain": [
              "eval:   0%|          | 0/78 [00:00<?, ?it/s]"
            ]
          },
          "metadata": {},
          "output_type": "display_data"
        },
        {
          "name": "stdout",
          "output_type": "stream",
          "text": [
            "epoch: 29, loss: 0.164022, acc: 92.0072\n"
          ]
        },
        {
          "data": {
            "application/vnd.jupyter.widget-view+json": {
              "model_id": "",
              "version_major": 2,
              "version_minor": 0
            },
            "text/plain": [
              "train:   0%|          | 0/390 [00:00<?, ?it/s]"
            ]
          },
          "metadata": {},
          "output_type": "display_data"
        },
        {
          "data": {
            "application/vnd.jupyter.widget-view+json": {
              "model_id": "",
              "version_major": 2,
              "version_minor": 0
            },
            "text/plain": [
              "eval:   0%|          | 0/78 [00:00<?, ?it/s]"
            ]
          },
          "metadata": {},
          "output_type": "display_data"
        },
        {
          "name": "stdout",
          "output_type": "stream",
          "text": [
            "epoch: 30, loss: 0.157361, acc: 92.1875\n"
          ]
        },
        {
          "data": {
            "application/vnd.jupyter.widget-view+json": {
              "model_id": "",
              "version_major": 2,
              "version_minor": 0
            },
            "text/plain": [
              "train:   0%|          | 0/390 [00:00<?, ?it/s]"
            ]
          },
          "metadata": {},
          "output_type": "display_data"
        },
        {
          "data": {
            "application/vnd.jupyter.widget-view+json": {
              "model_id": "",
              "version_major": 2,
              "version_minor": 0
            },
            "text/plain": [
              "eval:   0%|          | 0/78 [00:00<?, ?it/s]"
            ]
          },
          "metadata": {},
          "output_type": "display_data"
        },
        {
          "name": "stdout",
          "output_type": "stream",
          "text": [
            "epoch: 31, loss: 0.152952, acc: 92.1474\n"
          ]
        },
        {
          "data": {
            "application/vnd.jupyter.widget-view+json": {
              "model_id": "",
              "version_major": 2,
              "version_minor": 0
            },
            "text/plain": [
              "train:   0%|          | 0/390 [00:00<?, ?it/s]"
            ]
          },
          "metadata": {},
          "output_type": "display_data"
        },
        {
          "data": {
            "application/vnd.jupyter.widget-view+json": {
              "model_id": "",
              "version_major": 2,
              "version_minor": 0
            },
            "text/plain": [
              "eval:   0%|          | 0/78 [00:00<?, ?it/s]"
            ]
          },
          "metadata": {},
          "output_type": "display_data"
        },
        {
          "name": "stdout",
          "output_type": "stream",
          "text": [
            "epoch: 32, loss: 0.146274, acc: 92.1575\n"
          ]
        },
        {
          "data": {
            "application/vnd.jupyter.widget-view+json": {
              "model_id": "",
              "version_major": 2,
              "version_minor": 0
            },
            "text/plain": [
              "train:   0%|          | 0/390 [00:00<?, ?it/s]"
            ]
          },
          "metadata": {},
          "output_type": "display_data"
        },
        {
          "data": {
            "application/vnd.jupyter.widget-view+json": {
              "model_id": "",
              "version_major": 2,
              "version_minor": 0
            },
            "text/plain": [
              "eval:   0%|          | 0/78 [00:00<?, ?it/s]"
            ]
          },
          "metadata": {},
          "output_type": "display_data"
        },
        {
          "name": "stdout",
          "output_type": "stream",
          "text": [
            "epoch: 33, loss: 0.140128, acc: 92.3878\n"
          ]
        },
        {
          "data": {
            "application/vnd.jupyter.widget-view+json": {
              "model_id": "",
              "version_major": 2,
              "version_minor": 0
            },
            "text/plain": [
              "train:   0%|          | 0/390 [00:00<?, ?it/s]"
            ]
          },
          "metadata": {},
          "output_type": "display_data"
        },
        {
          "data": {
            "application/vnd.jupyter.widget-view+json": {
              "model_id": "",
              "version_major": 2,
              "version_minor": 0
            },
            "text/plain": [
              "eval:   0%|          | 0/78 [00:00<?, ?it/s]"
            ]
          },
          "metadata": {},
          "output_type": "display_data"
        },
        {
          "name": "stdout",
          "output_type": "stream",
          "text": [
            "epoch: 34, loss: 0.135608, acc: 92.2276\n"
          ]
        },
        {
          "data": {
            "application/vnd.jupyter.widget-view+json": {
              "model_id": "",
              "version_major": 2,
              "version_minor": 0
            },
            "text/plain": [
              "train:   0%|          | 0/390 [00:00<?, ?it/s]"
            ]
          },
          "metadata": {},
          "output_type": "display_data"
        },
        {
          "data": {
            "application/vnd.jupyter.widget-view+json": {
              "model_id": "",
              "version_major": 2,
              "version_minor": 0
            },
            "text/plain": [
              "eval:   0%|          | 0/78 [00:00<?, ?it/s]"
            ]
          },
          "metadata": {},
          "output_type": "display_data"
        },
        {
          "name": "stdout",
          "output_type": "stream",
          "text": [
            "epoch: 35, loss: 0.131803, acc: 92.3878\n"
          ]
        },
        {
          "data": {
            "application/vnd.jupyter.widget-view+json": {
              "model_id": "",
              "version_major": 2,
              "version_minor": 0
            },
            "text/plain": [
              "train:   0%|          | 0/390 [00:00<?, ?it/s]"
            ]
          },
          "metadata": {},
          "output_type": "display_data"
        },
        {
          "data": {
            "application/vnd.jupyter.widget-view+json": {
              "model_id": "",
              "version_major": 2,
              "version_minor": 0
            },
            "text/plain": [
              "eval:   0%|          | 0/78 [00:00<?, ?it/s]"
            ]
          },
          "metadata": {},
          "output_type": "display_data"
        },
        {
          "name": "stdout",
          "output_type": "stream",
          "text": [
            "epoch: 36, loss: 0.128689, acc: 92.3678\n"
          ]
        },
        {
          "data": {
            "application/vnd.jupyter.widget-view+json": {
              "model_id": "",
              "version_major": 2,
              "version_minor": 0
            },
            "text/plain": [
              "train:   0%|          | 0/390 [00:00<?, ?it/s]"
            ]
          },
          "metadata": {},
          "output_type": "display_data"
        },
        {
          "data": {
            "application/vnd.jupyter.widget-view+json": {
              "model_id": "",
              "version_major": 2,
              "version_minor": 0
            },
            "text/plain": [
              "eval:   0%|          | 0/78 [00:00<?, ?it/s]"
            ]
          },
          "metadata": {},
          "output_type": "display_data"
        },
        {
          "name": "stdout",
          "output_type": "stream",
          "text": [
            "epoch: 37, loss: 0.123695, acc: 92.3077\n"
          ]
        },
        {
          "data": {
            "application/vnd.jupyter.widget-view+json": {
              "model_id": "",
              "version_major": 2,
              "version_minor": 0
            },
            "text/plain": [
              "train:   0%|          | 0/390 [00:00<?, ?it/s]"
            ]
          },
          "metadata": {},
          "output_type": "display_data"
        },
        {
          "data": {
            "application/vnd.jupyter.widget-view+json": {
              "model_id": "",
              "version_major": 2,
              "version_minor": 0
            },
            "text/plain": [
              "eval:   0%|          | 0/78 [00:00<?, ?it/s]"
            ]
          },
          "metadata": {},
          "output_type": "display_data"
        },
        {
          "name": "stdout",
          "output_type": "stream",
          "text": [
            "epoch: 38, loss: 0.118296, acc: 92.5881\n",
            "Early stop at epoch 38.\n",
            ">>> Final accuracy: 92.5881\n"
          ]
        }
      ],
      "source": [
        "bar = tqdm(range(1, NUM_EPOCH + 1))\n",
        "for epoch_num in bar:\n",
        "  # torch.cuda.empty_cache()\n",
        "  loss_epoch = train(model, dataflow[\"train\"], criterion, optimizer, scheduler)\n",
        "  acc = evaluate(model, dataflow[\"test\"])\n",
        "  bar.set_postfix_str(f\"loss: {loss_epoch:.6f}, acc: {acc:.4f}\")\n",
        "  print(f\"epoch: {epoch_num}, loss: {loss_epoch:.6f}, acc: {acc:.4f}\")\n",
        "  if acc >= 92.5:\n",
        "    print(f\"Early stop at epoch {epoch_num}.\")\n",
        "    break\n",
        "\n",
        "print(f\">>> Final accuracy: {acc:.4f}\")"
      ]
    },
    {
      "cell_type": "markdown",
      "metadata": {
        "id": "Ao7C2ZSudE0o"
      },
      "source": [
        "Save the weight of the model as \"model.pt\":"
      ]
    },
    {
      "cell_type": "code",
      "execution_count": null,
      "metadata": {
        "execution": {
          "iopub.execute_input": "2025-02-26T04:42:05.281704Z",
          "iopub.status.busy": "2025-02-26T04:42:05.281403Z",
          "iopub.status.idle": "2025-02-26T04:42:05.333102Z",
          "shell.execute_reply": "2025-02-26T04:42:05.332060Z",
          "shell.execute_reply.started": "2025-02-26T04:42:05.281673Z"
        },
        "id": "vQrW_B-bcygR",
        "outputId": "3a3fdaaa-eb92-4fc5-cc0c-017457affbba",
        "trusted": true
      },
      "outputs": [
        {
          "name": "stdout",
          "output_type": "stream",
          "text": [
            "save model\n"
          ]
        }
      ],
      "source": [
        "# TODO:\n",
        "# Save the model weight\n",
        "torch.save(model.state_dict(), \"model.pt\")\n",
        "print('save model')"
      ]
    },
    {
      "cell_type": "markdown",
      "metadata": {
        "id": "r6pbapVjdTG3"
      },
      "source": [
        "You will find \"model.pt\" in the current folder."
      ]
    },
    {
      "cell_type": "markdown",
      "metadata": {
        "id": "TqwrM470RNoO"
      },
      "source": [
        "### Export Model (5%)"
      ]
    },
    {
      "cell_type": "markdown",
      "metadata": {
        "id": "BHpw1pWF6d1c"
      },
      "source": [
        "We can also save the model weight in [ONNX Format](https://pytorch.org/docs/stable/onnx_torchscript.html):"
      ]
    },
    {
      "cell_type": "code",
      "execution_count": null,
      "metadata": {
        "execution": {
          "iopub.execute_input": "2025-02-26T04:42:05.334520Z",
          "iopub.status.busy": "2025-02-26T04:42:05.334155Z",
          "iopub.status.idle": "2025-02-26T04:42:06.554403Z",
          "shell.execute_reply": "2025-02-26T04:42:06.553490Z",
          "shell.execute_reply.started": "2025-02-26T04:42:05.334486Z"
        },
        "id": "yd8oq4-O6kla",
        "outputId": "2b415329-8a26-4472-920f-39f6f96e0246",
        "trusted": true
      },
      "outputs": [
        {
          "name": "stdout",
          "output_type": "stream",
          "text": [
            "Model exported to model.onnx\n"
          ]
        }
      ],
      "source": [
        "import torch.onnx\n",
        "\n",
        "# TODO:\n",
        "# Specify the input shape\n",
        "\n",
        "onnx_path = 'model.onnx'\n",
        "\n",
        "# TODO:\n",
        "# Export the model to ONNX format\n",
        "dummy_input = torch.randn(1, 3, 224, 224).cuda()\n",
        "input_names = [\"input\"]\n",
        "output_names = [\"output\"]\n",
        "torch.onnx.export(model, dummy_input, onnx_path, verbose=True, input_names=input_names, output_names=output_names)\n",
        "\n",
        "print(f\"Model exported to {onnx_path}\")"
      ]
    },
    {
      "cell_type": "markdown",
      "metadata": {
        "id": "mLnLCIuv7M46"
      },
      "source": [
        "In onnx format, we can observe the model structure using [Netron](https://netron.app/).\n",
        "\n",
        "***Please download the model structure, hand in as YourID_onnx.png.***"
      ]
    },
    {
      "cell_type": "markdown",
      "metadata": {
        "id": "0QjgTo0GduJx"
      },
      "source": [
        "### Inference (10%)"
      ]
    },
    {
      "cell_type": "markdown",
      "metadata": {
        "id": "pEH0zddHdzH-"
      },
      "source": [
        "Load the saved model weight:\n",
        "\n"
      ]
    },
    {
      "cell_type": "code",
      "execution_count": null,
      "metadata": {
        "execution": {
          "iopub.execute_input": "2025-02-26T04:42:06.555738Z",
          "iopub.status.busy": "2025-02-26T04:42:06.555295Z",
          "iopub.status.idle": "2025-02-26T04:42:06.746443Z",
          "shell.execute_reply": "2025-02-26T04:42:06.745423Z",
          "shell.execute_reply.started": "2025-02-26T04:42:06.555698Z"
        },
        "id": "i28yt-XOdweL",
        "outputId": "fa2d1d3c-ad90-4e25-e8e5-775e5bac8fe8",
        "trusted": true
      },
      "outputs": [
        {
          "name": "stderr",
          "output_type": "stream",
          "text": [
            "<ipython-input-22-564579838c2d>:8: FutureWarning: You are using `torch.load` with `weights_only=False` (the current default value), which uses the default pickle module implicitly. It is possible to construct malicious pickle data which will execute arbitrary code during unpickling (See https://github.com/pytorch/pytorch/blob/main/SECURITY.md#untrusted-models for more details). In a future release, the default value for `weights_only` will be flipped to `True`. This limits the functions that could be executed during unpickling. Arbitrary objects will no longer be allowed to be loaded via this mode unless they are explicitly allowlisted by the user via `torch.serialization.add_safe_globals`. We recommend you start setting `weights_only=True` for any use case where you don't have full control of the loaded file. Please open an issue on GitHub for any issues related to this experimental feature.\n",
            "  loaded_model.load_state_dict(torch.load(\"model.pt\"))\n"
          ]
        }
      ],
      "source": [
        "# TODO:\n",
        "# Step 1: Get the model structure (mobilenet_v2 and the classifier)\n",
        "loaded_model = mobilenet_v2(weights=MobileNet_V2_Weights.DEFAULT)\n",
        "in_features = loaded_model.classifier[1].in_features\n",
        "loaded_model.classifier[1] = nn.Linear(in_features, NUM_CLASSES)\n",
        "\n",
        "# Step 2: Load the model weight from \"model.pt\".\n",
        "loaded_model.load_state_dict(torch.load(\"model.pt\"))\n",
        "\n",
        "# Step 3: Send the model from cpu to gpu\n",
        "loaded_model = loaded_model.cuda()"
      ]
    },
    {
      "cell_type": "markdown",
      "metadata": {
        "id": "IEaZWcuheRFv"
      },
      "source": [
        "Run inference with the loaded model weight and check the accuracy\n",
        "\n",
        "***Please screenshot the output model accuracy, hand in as YourID_acc_2.png***"
      ]
    },
    {
      "cell_type": "code",
      "execution_count": null,
      "metadata": {
        "colab": {
          "referenced_widgets": [
            ""
          ]
        },
        "execution": {
          "iopub.execute_input": "2025-02-26T04:42:06.750265Z",
          "iopub.status.busy": "2025-02-26T04:42:06.749984Z",
          "iopub.status.idle": "2025-02-26T04:42:19.189717Z",
          "shell.execute_reply": "2025-02-26T04:42:19.188630Z",
          "shell.execute_reply.started": "2025-02-26T04:42:06.750245Z"
        },
        "id": "2dMRsPgGeYe6",
        "outputId": "fe6c64c4-4ce3-422c-d151-4f1058a7be99",
        "trusted": true
      },
      "outputs": [
        {
          "data": {
            "application/vnd.jupyter.widget-view+json": {
              "model_id": "",
              "version_major": 2,
              "version_minor": 0
            },
            "text/plain": [
              "eval:   0%|          | 0/78 [00:00<?, ?it/s]"
            ]
          },
          "metadata": {},
          "output_type": "display_data"
        },
        {
          "name": "stdout",
          "output_type": "stream",
          "text": [
            "accuracy: 92.58814239501953\n"
          ]
        }
      ],
      "source": [
        "acc = evaluate(loaded_model, dataflow[\"test\"])\n",
        "print(f\"accuracy: {acc}\")"
      ]
    },
    {
      "cell_type": "markdown",
      "metadata": {
        "id": "ytdLy6EIfoeT"
      },
      "source": [
        "If the accurracy is the same as the accuracy before saved, you have completed PART 1.\n",
        "\n",
        "Congratulations!"
      ]
    },
    {
      "cell_type": "markdown",
      "metadata": {
        "id": "ni0FnXXHcgXa"
      },
      "source": [
        "# **Part 2: LLM with torch.compile**"
      ]
    },
    {
      "cell_type": "markdown",
      "metadata": {
        "id": "QiOzZkitfkmM"
      },
      "source": [
        "In part 2, we will compare the inference speed of the LLM whether we use torch.compile.\n",
        "\n",
        "```torch.compile``` is a new feature in PyTorch 2.0.\n",
        "\n",
        "The following tutorial will help you get to know the usage.\n",
        "\n",
        "[Introduction to torch.compile](https://pytorch.org/tutorials/intermediate/torch_compile_tutorial.html)\n",
        "\n",
        "We will choose ```Llama-3.2-1B-Instruct``` as our LLM model.\n",
        "\n",
        "Make sure you have access to llama before starting Part 2.\n",
        "\n",
        "https://huggingface.co/meta-llama/Llama-3.2-1B-Instruct"
      ]
    },
    {
      "cell_type": "markdown",
      "metadata": {
        "id": "bu-ihO_RiaVM"
      },
      "source": [
        "### Loading LLM (20%)"
      ]
    },
    {
      "cell_type": "markdown",
      "metadata": {
        "id": "p3LSb5aoiodV"
      },
      "source": [
        "We will first install huggingface and login with your token"
      ]
    },
    {
      "cell_type": "code",
      "execution_count": null,
      "metadata": {
        "colab": {
          "base_uri": "https://localhost:8080/"
        },
        "execution": {
          "iopub.execute_input": "2025-02-26T04:42:19.191419Z",
          "iopub.status.busy": "2025-02-26T04:42:19.191047Z",
          "iopub.status.idle": "2025-02-26T04:42:25.375123Z",
          "shell.execute_reply": "2025-02-26T04:42:25.373983Z",
          "shell.execute_reply.started": "2025-02-26T04:42:19.191389Z"
        },
        "id": "7EhC4kl0_CUf",
        "outputId": "f41866b8-6a4d-4a40-9e4f-4026cc61de95",
        "trusted": true
      },
      "outputs": [
        {
          "name": "stdout",
          "output_type": "stream",
          "text": [
            "Requirement already satisfied: huggingface_hub[cli] in /usr/local/lib/python3.11/dist-packages (0.28.1)\n",
            "Collecting huggingface_hub[cli]\n",
            "  Downloading huggingface_hub-0.29.1-py3-none-any.whl.metadata (13 kB)\n",
            "Requirement already satisfied: filelock in /usr/local/lib/python3.11/dist-packages (from huggingface_hub[cli]) (3.17.0)\n",
            "Requirement already satisfied: fsspec>=2023.5.0 in /usr/local/lib/python3.11/dist-packages (from huggingface_hub[cli]) (2024.10.0)\n",
            "Requirement already satisfied: packaging>=20.9 in /usr/local/lib/python3.11/dist-packages (from huggingface_hub[cli]) (24.2)\n",
            "Requirement already satisfied: pyyaml>=5.1 in /usr/local/lib/python3.11/dist-packages (from huggingface_hub[cli]) (6.0.2)\n",
            "Requirement already satisfied: requests in /usr/local/lib/python3.11/dist-packages (from huggingface_hub[cli]) (2.32.3)\n",
            "Requirement already satisfied: tqdm>=4.42.1 in /usr/local/lib/python3.11/dist-packages (from huggingface_hub[cli]) (4.67.1)\n",
            "Requirement already satisfied: typing-extensions>=3.7.4.3 in /usr/local/lib/python3.11/dist-packages (from huggingface_hub[cli]) (4.12.2)\n",
            "Collecting InquirerPy==0.3.4 (from huggingface_hub[cli])\n",
            "  Downloading InquirerPy-0.3.4-py3-none-any.whl.metadata (8.1 kB)\n",
            "Collecting pfzy<0.4.0,>=0.3.1 (from InquirerPy==0.3.4->huggingface_hub[cli])\n",
            "  Downloading pfzy-0.3.4-py3-none-any.whl.metadata (4.9 kB)\n",
            "Requirement already satisfied: prompt-toolkit<4.0.0,>=3.0.1 in /usr/local/lib/python3.11/dist-packages (from InquirerPy==0.3.4->huggingface_hub[cli]) (3.0.50)\n",
            "Requirement already satisfied: charset-normalizer<4,>=2 in /usr/local/lib/python3.11/dist-packages (from requests->huggingface_hub[cli]) (3.4.1)\n",
            "Requirement already satisfied: idna<4,>=2.5 in /usr/local/lib/python3.11/dist-packages (from requests->huggingface_hub[cli]) (3.10)\n",
            "Requirement already satisfied: urllib3<3,>=1.21.1 in /usr/local/lib/python3.11/dist-packages (from requests->huggingface_hub[cli]) (2.3.0)\n",
            "Requirement already satisfied: certifi>=2017.4.17 in /usr/local/lib/python3.11/dist-packages (from requests->huggingface_hub[cli]) (2025.1.31)\n",
            "Requirement already satisfied: wcwidth in /usr/local/lib/python3.11/dist-packages (from prompt-toolkit<4.0.0,>=3.0.1->InquirerPy==0.3.4->huggingface_hub[cli]) (0.2.13)\n",
            "Downloading InquirerPy-0.3.4-py3-none-any.whl (67 kB)\n",
            "\u001b[2K   \u001b[90m━━━━━━━━━━━━━━━━━━━━━━━━━━━━━━━━━━━━━━━━\u001b[0m \u001b[32m67.7/67.7 kB\u001b[0m \u001b[31m2.6 MB/s\u001b[0m eta \u001b[36m0:00:00\u001b[0m\n",
            "\u001b[?25hDownloading huggingface_hub-0.29.1-py3-none-any.whl (468 kB)\n",
            "\u001b[2K   \u001b[90m━━━━━━━━━━━━━━━━━━━━━━━━━━━━━━━━━━━━━━━━\u001b[0m \u001b[32m468.0/468.0 kB\u001b[0m \u001b[31m10.8 MB/s\u001b[0m eta \u001b[36m0:00:00\u001b[0m\n",
            "\u001b[?25hDownloading pfzy-0.3.4-py3-none-any.whl (8.5 kB)\n",
            "Installing collected packages: pfzy, InquirerPy, huggingface_hub\n",
            "  Attempting uninstall: huggingface_hub\n",
            "    Found existing installation: huggingface-hub 0.28.1\n",
            "    Uninstalling huggingface-hub-0.28.1:\n",
            "      Successfully uninstalled huggingface-hub-0.28.1\n",
            "Successfully installed InquirerPy-0.3.4 huggingface_hub-0.29.1 pfzy-0.3.4\n",
            "The token has not been saved to the git credentials helper. Pass `add_to_git_credential=True` in this function directly or `--add-to-git-credential` if using via `huggingface-cli` if you want to set the git credential as well.\n",
            "Token is valid (permission: fineGrained).\n",
            "The token `zby` has been saved to /root/.cache/huggingface/stored_tokens\n",
            "Your token has been saved to /root/.cache/huggingface/token\n",
            "Login successful.\n",
            "The current active token is: `zby`\n"
          ]
        }
      ],
      "source": [
        "!pip install -U \"huggingface_hub[cli]\"\n",
        "# !huggingface-cli login\n",
        "# Do not submit the token to E3\n",
        "!huggingface-cli login --token "
      ]
    },
    {
      "cell_type": "markdown",
      "metadata": {
        "id": "mUD-npfwki3T"
      },
      "source": [
        "We choose LLaMa 3.2 1B Instruct as our LLM model and load the pretrained model.\n",
        "\n",
        "Model ID: **\"meta-llama/Llama-3.2-1B-Instruct\"**\n"
      ]
    },
    {
      "cell_type": "code",
      "execution_count": 2,
      "metadata": {
        "colab": {
          "base_uri": "https://localhost:8080/",
          "height": 313,
          "referenced_widgets": [
            "d44a1431842d473bb8695e03808140c9",
            "981bf50b06a048daafd9b4640c193923",
            "bfd36ce33119462387fa77068f94e86a",
            "39e253f524304151929155721d5012de",
            "a292672bc4b445c9ac40028551975b2a",
            "4afbd7d179614afb8210e7b57e9b3d6b",
            "40e008e2e86546d4bd1bec0681e46ecd",
            "da70cc07bbb74890825117c6e94bb3e6",
            "45f7d220ceca405ab1b9ccb907e43451",
            "16b00086aa0a475ea018cfd7ea244f16",
            "8364327ebbc849a39b895ba16e2f141e",
            "cf3eb539e0c74d5494149f6ddcc91841",
            "47abe6b0d50a44d2a8af98d897da8a7c",
            "b8158866ccc04619ada4af6520debf02",
            "d15d08556abe42e895b5340608e8890a",
            "440ef9792ac9492ea08edb2f455bb53a",
            "836bc39c89704c97b0d795ec8baae046",
            "866fc535ecef418a94ebf647a6f25663",
            "2c2744a237d7430b90a1a5cb9510f3d3",
            "4a4d06dafc0b4922838995f6e33c04f4",
            "97c195869e854aab95c589df42287338",
            "30b4dd33f9e44af5a3b79016914e7834",
            "a395c64c28eb46039b2fddd7d70aa2ee",
            "67cfceca657c4570b06ed45aa3d7ad1f",
            "b8e1690339634018ad504170016b14be",
            "b024fa58ec12469797ab37f72eab351f",
            "579f0402d5a84a09a273b37b4df559ec",
            "7ed7eb972406402a8d7e45516bd87b08",
            "eb903e352aed446894ea92a6473d97be",
            "13c22e2da5074ce986a72ef09f8030d3",
            "cb8862d5d88f45db9a2403112e20a8ff",
            "0019b1da4478447b8242f49508686bf5",
            "61d9f6f162b549b79fff51177b044d62",
            "568a35855b564295866711eec94084dc",
            "ee9dfe3ab48d4b4399ea2c4385fee33b",
            "ea9c616d09254e3d951dc60a71c7045c",
            "c195b962763f4c318674b0b30b1d7aaa",
            "cbb8f25e20254cedbd2d85f95c6f30bc",
            "e97197a95ebf42ef827ff8dea55265d9",
            "71e2ff6203d24fbaac4d3acaec8c6bf8",
            "7b0c55b2e9a041b4be7646b0cb3d7fdc",
            "e567adb7b26b47a18254b78fb4f82806",
            "1b567c699f3043b0a2328c2ce861df4b",
            "21a8adee6ab14949ac156ca82bc16a6a",
            "050a782cff3c4321a55b2aa1347cc851",
            "a240238241fa47d589ee98dd894acc1f",
            "285a665c23354af6917cf7cb27f5fa9f",
            "43dd6d0b6d474a4984515649a47a4504",
            "ec1ad215f6504b829df27597568773dd",
            "36e539a313bf492585f329f2768704f6",
            "47c1327f5bb64a5ab0e18a8afd7e610c",
            "a23bc1314616477eb7e6d20394d0653c",
            "622e7757004b4b2d9875c13f9973f4c7",
            "f734c20b90c84319b85d5d0e54e09a4c",
            "901fe08f9b59426bb8b9c5500e2e3fd5",
            "7b45b25c8b3746b9ae39063e4ee7354e",
            "e3fa4808be614542a3b07f25394dff07",
            "e5639de15d5b48448b4e273b7dbbc91b",
            "2d2689b84713411ab2b3fe3b5f4ec9e3",
            "8235dd92d20e48908747851886b68860",
            "02810c67aaca4dd8b31d9da87017e79e",
            "e770c16b887e4a3cbe2e6ea73a304806",
            "082a9f98d33544e2825d0cb57bfe4dd5",
            "e57ec65a45fb401496f252e0b4a5ac93",
            "12914af507d040a7b6f594868d2da4ed",
            "ead17f5eb118484cb4c51e07507fa34b"
          ]
        },
        "execution": {
          "iopub.execute_input": "2025-02-26T04:42:25.376566Z",
          "iopub.status.busy": "2025-02-26T04:42:25.376297Z",
          "iopub.status.idle": "2025-02-26T04:43:46.279433Z",
          "shell.execute_reply": "2025-02-26T04:43:46.278647Z",
          "shell.execute_reply.started": "2025-02-26T04:42:25.376542Z"
        },
        "id": "SjCkbW_i8VUq",
        "outputId": "06bb2089-aef8-4cf5-f59e-1577c1eb0bcc",
        "trusted": true
      },
      "outputs": [
        {
          "name": "stderr",
          "output_type": "stream",
          "text": [
            "/usr/local/lib/python3.11/dist-packages/huggingface_hub/utils/_auth.py:94: UserWarning: \n",
            "The secret `HF_TOKEN` does not exist in your Colab secrets.\n",
            "To authenticate with the Hugging Face Hub, create a token in your settings tab (https://huggingface.co/settings/tokens), set it as secret in your Google Colab and restart your session.\n",
            "You will be able to reuse this secret in all of your notebooks.\n",
            "Please note that authentication is recommended but still optional to access public models or datasets.\n",
            "  warnings.warn(\n"
          ]
        },
        {
          "data": {
            "application/vnd.jupyter.widget-view+json": {
              "model_id": "d44a1431842d473bb8695e03808140c9",
              "version_major": 2,
              "version_minor": 0
            },
            "text/plain": [
              "tokenizer_config.json:   0%|          | 0.00/54.5k [00:00<?, ?B/s]"
            ]
          },
          "metadata": {},
          "output_type": "display_data"
        },
        {
          "data": {
            "application/vnd.jupyter.widget-view+json": {
              "model_id": "cf3eb539e0c74d5494149f6ddcc91841",
              "version_major": 2,
              "version_minor": 0
            },
            "text/plain": [
              "tokenizer.json:   0%|          | 0.00/9.09M [00:00<?, ?B/s]"
            ]
          },
          "metadata": {},
          "output_type": "display_data"
        },
        {
          "data": {
            "application/vnd.jupyter.widget-view+json": {
              "model_id": "a395c64c28eb46039b2fddd7d70aa2ee",
              "version_major": 2,
              "version_minor": 0
            },
            "text/plain": [
              "special_tokens_map.json:   0%|          | 0.00/296 [00:00<?, ?B/s]"
            ]
          },
          "metadata": {},
          "output_type": "display_data"
        },
        {
          "data": {
            "application/vnd.jupyter.widget-view+json": {
              "model_id": "568a35855b564295866711eec94084dc",
              "version_major": 2,
              "version_minor": 0
            },
            "text/plain": [
              "config.json:   0%|          | 0.00/877 [00:00<?, ?B/s]"
            ]
          },
          "metadata": {},
          "output_type": "display_data"
        },
        {
          "data": {
            "application/vnd.jupyter.widget-view+json": {
              "model_id": "050a782cff3c4321a55b2aa1347cc851",
              "version_major": 2,
              "version_minor": 0
            },
            "text/plain": [
              "model.safetensors:   0%|          | 0.00/2.47G [00:00<?, ?B/s]"
            ]
          },
          "metadata": {},
          "output_type": "display_data"
        },
        {
          "data": {
            "application/vnd.jupyter.widget-view+json": {
              "model_id": "7b45b25c8b3746b9ae39063e4ee7354e",
              "version_major": 2,
              "version_minor": 0
            },
            "text/plain": [
              "generation_config.json:   0%|          | 0.00/189 [00:00<?, ?B/s]"
            ]
          },
          "metadata": {},
          "output_type": "display_data"
        }
      ],
      "source": [
        "from transformers import AutoModelForCausalLM, AutoTokenizer\n",
        "import torch\n",
        "\n",
        "# TODO:\n",
        "# Load the LLaMA 3.2 1B Instruct model\n",
        "model_id = \"meta-llama/Llama-3.2-1B-Instruct\"\n",
        "tokenizer = AutoTokenizer.from_pretrained(model_id)\n",
        "model = AutoModelForCausalLM.from_pretrained(model_id, torch_dtype=torch.float16).cuda()"
      ]
    },
    {
      "cell_type": "markdown",
      "metadata": {
        "id": "m1F8VBtODHX2"
      },
      "source": [
        "First we need to decide our prompt to feed into LLM and the maximum token length as well.\n",
        "\n",
        "You can also change the iteration times of testing for the following tests."
      ]
    },
    {
      "cell_type": "code",
      "execution_count": 3,
      "metadata": {
        "execution": {
          "iopub.execute_input": "2025-02-26T04:43:46.280998Z",
          "iopub.status.busy": "2025-02-26T04:43:46.280395Z",
          "iopub.status.idle": "2025-02-26T04:43:46.287882Z",
          "shell.execute_reply": "2025-02-26T04:43:46.287161Z",
          "shell.execute_reply.started": "2025-02-26T04:43:46.280957Z"
        },
        "id": "XJMPtSLuCzCq",
        "trusted": true
      },
      "outputs": [],
      "source": [
        "# TODO:\n",
        "# Input prompt\n",
        "# You can change the prompt whatever you want, e.g. \"How to learn a new language?\", \"What is Edge AI?\"\n",
        "\n",
        "prompt = \"What is Edge AI? As detailed and content-rich as possible.\"\n",
        "inputs = tokenizer(prompt, return_tensors=\"pt\").to(\"cuda\")\n",
        "max_token_length = 512\n",
        "iter_times = 10"
      ]
    },
    {
      "cell_type": "markdown",
      "metadata": {
        "id": "RiHloHdRKaaY"
      },
      "source": [
        "### Inference with torch.compile (10%)\n"
      ]
    },
    {
      "cell_type": "markdown",
      "metadata": {
        "id": "ZWj3sD_PJL7Z"
      },
      "source": [
        "Let's define a timer function to compare the speed up of ```torch.compile```"
      ]
    },
    {
      "cell_type": "code",
      "execution_count": 4,
      "metadata": {
        "execution": {
          "iopub.execute_input": "2025-02-26T04:43:46.288911Z",
          "iopub.status.busy": "2025-02-26T04:43:46.288674Z",
          "iopub.status.idle": "2025-02-26T04:43:46.301309Z",
          "shell.execute_reply": "2025-02-26T04:43:46.300429Z",
          "shell.execute_reply.started": "2025-02-26T04:43:46.288890Z"
        },
        "id": "oNK4ukXZb631",
        "trusted": true
      },
      "outputs": [],
      "source": [
        "def timed(fn):\n",
        "  start = torch.cuda.Event(enable_timing=True)\n",
        "  end = torch.cuda.Event(enable_timing=True)\n",
        "  start.record()\n",
        "  result = fn()\n",
        "  end.record()\n",
        "  torch.cuda.synchronize()\n",
        "  return result, start.elapsed_time(end) / 1000"
      ]
    },
    {
      "cell_type": "markdown",
      "metadata": {
        "id": "k4IDTZYbJxJj"
      },
      "source": [
        "After everything is set up, let's start!\n",
        "\n",
        "We first simply run the inference without ```torch.compile```\n"
      ]
    },
    {
      "cell_type": "code",
      "execution_count": 5,
      "metadata": {
        "colab": {
          "base_uri": "https://localhost:8080/"
        },
        "execution": {
          "iopub.execute_input": "2025-02-26T04:43:46.302591Z",
          "iopub.status.busy": "2025-02-26T04:43:46.302335Z",
          "iopub.status.idle": "2025-02-26T04:45:33.984338Z",
          "shell.execute_reply": "2025-02-26T04:45:33.983399Z",
          "shell.execute_reply.started": "2025-02-26T04:43:46.302568Z"
        },
        "id": "-u-fBCU-b7hS",
        "outputId": "238bd8eb-74c5-40bc-eb4a-1c72cdd42c29",
        "trusted": true
      },
      "outputs": [
        {
          "name": "stdout",
          "output_type": "stream",
          "text": [
            "Time taken without torch.compile: 12.41825 seconds\n",
            "Time taken without torch.compile: 10.8038701171875 seconds\n",
            "Time taken without torch.compile: 10.866525390625 seconds\n",
            "Time taken without torch.compile: 10.9125634765625 seconds\n",
            "Time taken without torch.compile: 10.8023046875 seconds\n",
            "Time taken without torch.compile: 10.9470576171875 seconds\n",
            "Time taken without torch.compile: 10.645412109375 seconds\n",
            "Time taken without torch.compile: 10.6027451171875 seconds\n",
            "Time taken without torch.compile: 11.56204296875 seconds\n",
            "Time taken without torch.compile: 10.807638671875 seconds\n",
            "Output without torch.compile: What is Edge AI? As detailed and content-rich as possible. Edge AI refers to artificial intelligence (AI) that is integrated into the edge of the network, meaning it is located at the edge of the network, rather than in the cloud. The term \"edge AI\" was first introduced in 2016 by Google, and it has since gained significant attention and investment from various technology companies.\n",
            "\n",
            "**What is the Edge Network?**\n",
            "\n",
            "The edge network refers to the network of devices, such as smartphones, smart home devices, and IoT sensors, that are located near the end of the network, rather than in the cloud. These devices are responsible for processing and analyzing data in real-time, and they are connected to the cloud through a network of routers and switches.\n",
            "\n",
            "**What is Edge AI?**\n",
            "\n",
            "Edge AI is a type of AI that is integrated into the edge network, meaning it is located at the edge of the network, rather than in the cloud. Edge AI is designed to process and analyze data in real-time, without requiring it to be sent to the cloud for processing. This is achieved through the use of specialized hardware and software that are optimized for the edge network.\n",
            "\n",
            "**How does Edge AI work?**\n",
            "\n",
            "Edge AI works by using a combination of hardware and software to process and analyze data in real-time. The process typically involves the following steps:\n",
            "\n",
            "1. **Data Ingestion**: The data is collected from various sources, such as sensors, cameras, and other devices.\n",
            "2. **Data Processing**: The data is processed and analyzed using specialized algorithms and software that are optimized for the edge network.\n",
            "3. **Data Storage**: The processed data is stored in a local storage device, such as a hard drive or solid-state drive.\n",
            "4. **Decision Making**: The processed data is used to make decisions, such as detecting anomalies or identifying patterns.\n",
            "\n",
            "**Benefits of Edge AI**\n",
            "\n",
            "The benefits of Edge AI include:\n",
            "\n",
            "1. **Improved Performance**: Edge AI can process and analyze data in real-time, without requiring it to be sent to the cloud for processing.\n",
            "2. **Reduced Latency**: Edge AI can reduce latency by processing data locally, rather than relying on the cloud.\n",
            "3. **Increased Security**: Edge AI can provide a more secure environment by reducing the risk of data breaches and cyber attacks.\n",
            "4. **Improved Reliability**: Edge AI can improve the reliability of systems by reducing the risk of data loss and corruption.\n",
            "\n",
            "**Applications of Edge AI**\n",
            "\n",
            "Edge AI has a wide range of applications, including:\n",
            "\n",
            "1. **Smart\n"
          ]
        }
      ],
      "source": [
        "original_times = []\n",
        "\n",
        "# Timing without torch.compile\n",
        "for i in range(iter_times):\n",
        "  with torch.no_grad():\n",
        "    original_output, original_time = timed(lambda: model.generate(**inputs, max_length=max_token_length, pad_token_id=tokenizer.eos_token_id))\n",
        "  original_times.append(original_time)\n",
        "  print(f\"Time taken without torch.compile: {original_time} seconds\")\n",
        "\n",
        "# Decode the output\n",
        "output_text = tokenizer.decode(original_output[0], skip_special_tokens=True)\n",
        "print(f\"Output without torch.compile: {output_text}\")"
      ]
    },
    {
      "cell_type": "markdown",
      "metadata": {
        "id": "EeVhUlk_K9La"
      },
      "source": [
        "Before using ```torch.compile```, we need to access the model's ```generation_config``` attribute and set the ```cache_implementation``` to \"static\".\n",
        "\n",
        "To use ```torch.compile```, we need to call ```torch.compile``` on the model to compile the forward pass with the static kv-cache.\n",
        "\n",
        "Reference: https://huggingface.co/docs/transformers/llm_optims?static-kv=basic+usage%3A+generation_config"
      ]
    },
    {
      "cell_type": "code",
      "execution_count": 6,
      "metadata": {
        "colab": {
          "base_uri": "https://localhost:8080/"
        },
        "execution": {
          "iopub.execute_input": "2025-02-26T04:45:33.985686Z",
          "iopub.status.busy": "2025-02-26T04:45:33.985317Z",
          "iopub.status.idle": "2025-02-26T04:45:48.336575Z",
          "shell.execute_reply": "2025-02-26T04:45:48.334186Z",
          "shell.execute_reply.started": "2025-02-26T04:45:33.985651Z"
        },
        "id": "BQkTIDusb_7i",
        "outputId": "3cb2196b-25cc-480c-cbf6-9c72bd679e6a",
        "trusted": true
      },
      "outputs": [
        {
          "name": "stderr",
          "output_type": "stream",
          "text": [
            "The 'batch_size' attribute of StaticCache is deprecated and will be removed in v4.49. Use the more precisely named 'self.max_batch_size' attribute instead.\n",
            "Using `torch.compile`.\n"
          ]
        },
        {
          "name": "stdout",
          "output_type": "stream",
          "text": [
            "Time taken with torch.compile: 35.2224921875 seconds\n",
            "Time taken with torch.compile: 6.9120751953125 seconds\n",
            "Time taken with torch.compile: 7.46201123046875 seconds\n",
            "Time taken with torch.compile: 7.4125146484375 seconds\n",
            "Time taken with torch.compile: 7.0374970703125 seconds\n",
            "Time taken with torch.compile: 7.0274775390625 seconds\n",
            "Time taken with torch.compile: 6.9582412109375 seconds\n",
            "Time taken with torch.compile: 6.97588818359375 seconds\n",
            "Time taken with torch.compile: 6.89907275390625 seconds\n",
            "Time taken with torch.compile: 6.9553994140625 seconds\n",
            "\n",
            "Output with torch.compile: What is Edge AI? As detailed and content-rich as possible. Edge AI refers to the integration of artificial intelligence (AI) and machine learning (ML) capabilities directly into the edge devices, such as smart speakers, smartphones, and other IoT devices. The goal is to enhance the performance of these devices in real-time, while minimizing latency and reducing the amount of data being transmitted to the cloud.\n",
            "\n",
            "**What are the benefits of Edge AI?**\n",
            "\n",
            "1. **Reduced latency**: By processing AI and ML computations directly on the device, latency is significantly reduced, enabling faster and more efficient interaction with the device.\n",
            "2. **Increased performance**: Edge AI enables devices to handle complex tasks and processes in real-time, without the need for frequent cloud reconnections.\n",
            "3. **Improved security**: Edge AI reduces the attack surface of devices, as AI and ML computations are performed locally, minimizing the risk of data breaches.\n",
            "4. **Enhanced user experience**: Edge AI enables devices to respond to user input in a more timely and intuitive manner, improving overall user experience.\n",
            "5. **Cost savings**: By reducing the need for cloud-based services, Edge AI can help organizations save on cloud infrastructure costs.\n",
            "\n",
            "**How does Edge AI work?**\n",
            "\n",
            "1. **Device-side processing**: Edge AI devices, such as smart speakers or smartphones, contain processing units (e.g., CPUs, GPUs, or FPGAs) that can execute AI and ML algorithms.\n",
            "2. **Data input**: Users input data into the device, which is then processed by the AI and ML algorithms.\n",
            "3. **Output processing**: The processed data is then sent to the cloud or other devices for further processing, or the output is displayed directly on the device.\n",
            "4. **Real-time processing**: AI and ML computations are performed in real-time, minimizing latency and reducing the need for cloud reconnections.\n",
            "\n",
            "**Edge AI use cases**\n",
            "\n",
            "1. **Smart home automation**: Edge AI enables smart home devices to learn user preferences and adapt to changing conditions, such as adjusting lighting or temperature settings.\n",
            "2. **Virtual assistants**: Edge AI enables virtual assistants, such as Siri or Google Assistant, to respond to user input in a more timely and intuitive manner.\n",
            "3. **Healthcare**: Edge AI can be used to analyze medical data, detect anomalies, and provide personalized healthcare recommendations.\n",
            "4. **Industrial automation**: Edge AI can be used to monitor and control industrial processes, such as temperature control or quality inspection.\n",
            "5. **Autonomous vehicles**: Edge AI enables autonomous vehicles to process sensor data and make decisions\n"
          ]
        }
      ],
      "source": [
        "compile_times = []\n",
        "\n",
        "# Remind that whenever you use torch.compile, you need to use torch._dynamo.reset() to clear all compilation caches and restores the system to its initial state.\n",
        "import torch._dynamo\n",
        "torch._dynamo.reset()\n",
        "\n",
        "# TODO:\n",
        "# Compile the model\n",
        "model.generation_config.cache_implementation = \"static\"\n",
        "compiled_model = torch.compile(model)\n",
        "\n",
        "# Timing with torch.compile\n",
        "for i in range(iter_times):\n",
        "  with torch.no_grad():\n",
        "    compile_output, compile_time = timed(lambda: compiled_model.generate(**inputs, max_length=max_token_length, pad_token_id=tokenizer.eos_token_id))\n",
        "  compile_times.append(compile_time)\n",
        "  print(f\"Time taken with torch.compile: {compile_time} seconds\")\n",
        "\n",
        "# Decode output\n",
        "output_text = tokenizer.decode(compile_output[0], skip_special_tokens=True)\n",
        "print(f\"\\nOutput with torch.compile: {output_text}\")"
      ]
    },
    {
      "cell_type": "markdown",
      "metadata": {
        "id": "NFZMBADDTo5T"
      },
      "source": [
        "We can easily observe that after the first inference, the inference time drops a lot!\n",
        "\n",
        "Below code can tell you how much faster did ```torch.compile``` did.\n",
        "\n",
        "***Please screenshot the inference time and speedup below, hand in as YourID_speedup.png***"
      ]
    },
    {
      "cell_type": "code",
      "execution_count": 7,
      "metadata": {
        "colab": {
          "base_uri": "https://localhost:8080/"
        },
        "execution": {
          "iopub.status.busy": "2025-02-26T04:45:48.337420Z",
          "iopub.status.idle": "2025-02-26T04:45:48.337802Z",
          "shell.execute_reply": "2025-02-26T04:45:48.337636Z"
        },
        "id": "gPbqAgo6P7et",
        "outputId": "3c746ba4-5987-493f-f05b-4a48fde62193",
        "trusted": true
      },
      "outputs": [
        {
          "name": "stdout",
          "output_type": "stream",
          "text": [
            "Original median: 10.83708203125,\n",
            "Compile median: 7.001682861328125,\n",
            "Speedup: 1.547782475425394x\n"
          ]
        }
      ],
      "source": [
        "import numpy as np\n",
        "original_med = np.median(original_times)\n",
        "compile_med = np.median(compile_times)\n",
        "speedup = original_med / compile_med\n",
        "print(f\"Original median: {original_med},\\nCompile median: {compile_med},\\nSpeedup: {speedup}x\")"
      ]
    },
    {
      "cell_type": "markdown",
      "metadata": {
        "id": "pXdb901VmrZS"
      },
      "source": [
        "You've finished part 2.\n",
        "\n",
        "Congratulations!"
      ]
    }
  ],
  "metadata": {
    "accelerator": "GPU",
    "colab": {
      "gpuType": "T4",
      "provenance": []
    },
    "kaggle": {
      "accelerator": "gpu",
      "dataSources": [],
      "isGpuEnabled": true,
      "isInternetEnabled": true,
      "language": "python",
      "sourceType": "notebook"
    },
    "kernelspec": {
      "display_name": "Python 3",
      "language": "python",
      "name": "python3"
    },
    "language_info": {
      "codemirror_mode": {
        "name": "ipython",
        "version": 3
      },
      "file_extension": ".py",
      "mimetype": "text/x-python",
      "name": "python",
      "nbconvert_exporter": "python",
      "pygments_lexer": "ipython3",
      "version": "3.10.12"
    },
    "widgets": {
      "application/vnd.jupyter.widget-state+json": {
        "0019b1da4478447b8242f49508686bf5": {
          "model_module": "@jupyter-widgets/base",
          "model_module_version": "1.2.0",
          "model_name": "LayoutModel",
          "state": {
            "_model_module": "@jupyter-widgets/base",
            "_model_module_version": "1.2.0",
            "_model_name": "LayoutModel",
            "_view_count": null,
            "_view_module": "@jupyter-widgets/base",
            "_view_module_version": "1.2.0",
            "_view_name": "LayoutView",
            "align_content": null,
            "align_items": null,
            "align_self": null,
            "border": null,
            "bottom": null,
            "display": null,
            "flex": null,
            "flex_flow": null,
            "grid_area": null,
            "grid_auto_columns": null,
            "grid_auto_flow": null,
            "grid_auto_rows": null,
            "grid_column": null,
            "grid_gap": null,
            "grid_row": null,
            "grid_template_areas": null,
            "grid_template_columns": null,
            "grid_template_rows": null,
            "height": null,
            "justify_content": null,
            "justify_items": null,
            "left": null,
            "margin": null,
            "max_height": null,
            "max_width": null,
            "min_height": null,
            "min_width": null,
            "object_fit": null,
            "object_position": null,
            "order": null,
            "overflow": null,
            "overflow_x": null,
            "overflow_y": null,
            "padding": null,
            "right": null,
            "top": null,
            "visibility": null,
            "width": null
          }
        },
        "02810c67aaca4dd8b31d9da87017e79e": {
          "model_module": "@jupyter-widgets/base",
          "model_module_version": "1.2.0",
          "model_name": "LayoutModel",
          "state": {
            "_model_module": "@jupyter-widgets/base",
            "_model_module_version": "1.2.0",
            "_model_name": "LayoutModel",
            "_view_count": null,
            "_view_module": "@jupyter-widgets/base",
            "_view_module_version": "1.2.0",
            "_view_name": "LayoutView",
            "align_content": null,
            "align_items": null,
            "align_self": null,
            "border": null,
            "bottom": null,
            "display": null,
            "flex": null,
            "flex_flow": null,
            "grid_area": null,
            "grid_auto_columns": null,
            "grid_auto_flow": null,
            "grid_auto_rows": null,
            "grid_column": null,
            "grid_gap": null,
            "grid_row": null,
            "grid_template_areas": null,
            "grid_template_columns": null,
            "grid_template_rows": null,
            "height": null,
            "justify_content": null,
            "justify_items": null,
            "left": null,
            "margin": null,
            "max_height": null,
            "max_width": null,
            "min_height": null,
            "min_width": null,
            "object_fit": null,
            "object_position": null,
            "order": null,
            "overflow": null,
            "overflow_x": null,
            "overflow_y": null,
            "padding": null,
            "right": null,
            "top": null,
            "visibility": null,
            "width": null
          }
        },
        "050a782cff3c4321a55b2aa1347cc851": {
          "model_module": "@jupyter-widgets/controls",
          "model_module_version": "1.5.0",
          "model_name": "HBoxModel",
          "state": {
            "_dom_classes": [],
            "_model_module": "@jupyter-widgets/controls",
            "_model_module_version": "1.5.0",
            "_model_name": "HBoxModel",
            "_view_count": null,
            "_view_module": "@jupyter-widgets/controls",
            "_view_module_version": "1.5.0",
            "_view_name": "HBoxView",
            "box_style": "",
            "children": [
              "IPY_MODEL_a240238241fa47d589ee98dd894acc1f",
              "IPY_MODEL_285a665c23354af6917cf7cb27f5fa9f",
              "IPY_MODEL_43dd6d0b6d474a4984515649a47a4504"
            ],
            "layout": "IPY_MODEL_ec1ad215f6504b829df27597568773dd"
          }
        },
        "082a9f98d33544e2825d0cb57bfe4dd5": {
          "model_module": "@jupyter-widgets/base",
          "model_module_version": "1.2.0",
          "model_name": "LayoutModel",
          "state": {
            "_model_module": "@jupyter-widgets/base",
            "_model_module_version": "1.2.0",
            "_model_name": "LayoutModel",
            "_view_count": null,
            "_view_module": "@jupyter-widgets/base",
            "_view_module_version": "1.2.0",
            "_view_name": "LayoutView",
            "align_content": null,
            "align_items": null,
            "align_self": null,
            "border": null,
            "bottom": null,
            "display": null,
            "flex": null,
            "flex_flow": null,
            "grid_area": null,
            "grid_auto_columns": null,
            "grid_auto_flow": null,
            "grid_auto_rows": null,
            "grid_column": null,
            "grid_gap": null,
            "grid_row": null,
            "grid_template_areas": null,
            "grid_template_columns": null,
            "grid_template_rows": null,
            "height": null,
            "justify_content": null,
            "justify_items": null,
            "left": null,
            "margin": null,
            "max_height": null,
            "max_width": null,
            "min_height": null,
            "min_width": null,
            "object_fit": null,
            "object_position": null,
            "order": null,
            "overflow": null,
            "overflow_x": null,
            "overflow_y": null,
            "padding": null,
            "right": null,
            "top": null,
            "visibility": null,
            "width": null
          }
        },
        "12914af507d040a7b6f594868d2da4ed": {
          "model_module": "@jupyter-widgets/base",
          "model_module_version": "1.2.0",
          "model_name": "LayoutModel",
          "state": {
            "_model_module": "@jupyter-widgets/base",
            "_model_module_version": "1.2.0",
            "_model_name": "LayoutModel",
            "_view_count": null,
            "_view_module": "@jupyter-widgets/base",
            "_view_module_version": "1.2.0",
            "_view_name": "LayoutView",
            "align_content": null,
            "align_items": null,
            "align_self": null,
            "border": null,
            "bottom": null,
            "display": null,
            "flex": null,
            "flex_flow": null,
            "grid_area": null,
            "grid_auto_columns": null,
            "grid_auto_flow": null,
            "grid_auto_rows": null,
            "grid_column": null,
            "grid_gap": null,
            "grid_row": null,
            "grid_template_areas": null,
            "grid_template_columns": null,
            "grid_template_rows": null,
            "height": null,
            "justify_content": null,
            "justify_items": null,
            "left": null,
            "margin": null,
            "max_height": null,
            "max_width": null,
            "min_height": null,
            "min_width": null,
            "object_fit": null,
            "object_position": null,
            "order": null,
            "overflow": null,
            "overflow_x": null,
            "overflow_y": null,
            "padding": null,
            "right": null,
            "top": null,
            "visibility": null,
            "width": null
          }
        },
        "13c22e2da5074ce986a72ef09f8030d3": {
          "model_module": "@jupyter-widgets/base",
          "model_module_version": "1.2.0",
          "model_name": "LayoutModel",
          "state": {
            "_model_module": "@jupyter-widgets/base",
            "_model_module_version": "1.2.0",
            "_model_name": "LayoutModel",
            "_view_count": null,
            "_view_module": "@jupyter-widgets/base",
            "_view_module_version": "1.2.0",
            "_view_name": "LayoutView",
            "align_content": null,
            "align_items": null,
            "align_self": null,
            "border": null,
            "bottom": null,
            "display": null,
            "flex": null,
            "flex_flow": null,
            "grid_area": null,
            "grid_auto_columns": null,
            "grid_auto_flow": null,
            "grid_auto_rows": null,
            "grid_column": null,
            "grid_gap": null,
            "grid_row": null,
            "grid_template_areas": null,
            "grid_template_columns": null,
            "grid_template_rows": null,
            "height": null,
            "justify_content": null,
            "justify_items": null,
            "left": null,
            "margin": null,
            "max_height": null,
            "max_width": null,
            "min_height": null,
            "min_width": null,
            "object_fit": null,
            "object_position": null,
            "order": null,
            "overflow": null,
            "overflow_x": null,
            "overflow_y": null,
            "padding": null,
            "right": null,
            "top": null,
            "visibility": null,
            "width": null
          }
        },
        "16b00086aa0a475ea018cfd7ea244f16": {
          "model_module": "@jupyter-widgets/base",
          "model_module_version": "1.2.0",
          "model_name": "LayoutModel",
          "state": {
            "_model_module": "@jupyter-widgets/base",
            "_model_module_version": "1.2.0",
            "_model_name": "LayoutModel",
            "_view_count": null,
            "_view_module": "@jupyter-widgets/base",
            "_view_module_version": "1.2.0",
            "_view_name": "LayoutView",
            "align_content": null,
            "align_items": null,
            "align_self": null,
            "border": null,
            "bottom": null,
            "display": null,
            "flex": null,
            "flex_flow": null,
            "grid_area": null,
            "grid_auto_columns": null,
            "grid_auto_flow": null,
            "grid_auto_rows": null,
            "grid_column": null,
            "grid_gap": null,
            "grid_row": null,
            "grid_template_areas": null,
            "grid_template_columns": null,
            "grid_template_rows": null,
            "height": null,
            "justify_content": null,
            "justify_items": null,
            "left": null,
            "margin": null,
            "max_height": null,
            "max_width": null,
            "min_height": null,
            "min_width": null,
            "object_fit": null,
            "object_position": null,
            "order": null,
            "overflow": null,
            "overflow_x": null,
            "overflow_y": null,
            "padding": null,
            "right": null,
            "top": null,
            "visibility": null,
            "width": null
          }
        },
        "1b567c699f3043b0a2328c2ce861df4b": {
          "model_module": "@jupyter-widgets/base",
          "model_module_version": "1.2.0",
          "model_name": "LayoutModel",
          "state": {
            "_model_module": "@jupyter-widgets/base",
            "_model_module_version": "1.2.0",
            "_model_name": "LayoutModel",
            "_view_count": null,
            "_view_module": "@jupyter-widgets/base",
            "_view_module_version": "1.2.0",
            "_view_name": "LayoutView",
            "align_content": null,
            "align_items": null,
            "align_self": null,
            "border": null,
            "bottom": null,
            "display": null,
            "flex": null,
            "flex_flow": null,
            "grid_area": null,
            "grid_auto_columns": null,
            "grid_auto_flow": null,
            "grid_auto_rows": null,
            "grid_column": null,
            "grid_gap": null,
            "grid_row": null,
            "grid_template_areas": null,
            "grid_template_columns": null,
            "grid_template_rows": null,
            "height": null,
            "justify_content": null,
            "justify_items": null,
            "left": null,
            "margin": null,
            "max_height": null,
            "max_width": null,
            "min_height": null,
            "min_width": null,
            "object_fit": null,
            "object_position": null,
            "order": null,
            "overflow": null,
            "overflow_x": null,
            "overflow_y": null,
            "padding": null,
            "right": null,
            "top": null,
            "visibility": null,
            "width": null
          }
        },
        "21a8adee6ab14949ac156ca82bc16a6a": {
          "model_module": "@jupyter-widgets/controls",
          "model_module_version": "1.5.0",
          "model_name": "DescriptionStyleModel",
          "state": {
            "_model_module": "@jupyter-widgets/controls",
            "_model_module_version": "1.5.0",
            "_model_name": "DescriptionStyleModel",
            "_view_count": null,
            "_view_module": "@jupyter-widgets/base",
            "_view_module_version": "1.2.0",
            "_view_name": "StyleView",
            "description_width": ""
          }
        },
        "285a665c23354af6917cf7cb27f5fa9f": {
          "model_module": "@jupyter-widgets/controls",
          "model_module_version": "1.5.0",
          "model_name": "FloatProgressModel",
          "state": {
            "_dom_classes": [],
            "_model_module": "@jupyter-widgets/controls",
            "_model_module_version": "1.5.0",
            "_model_name": "FloatProgressModel",
            "_view_count": null,
            "_view_module": "@jupyter-widgets/controls",
            "_view_module_version": "1.5.0",
            "_view_name": "ProgressView",
            "bar_style": "success",
            "description": "",
            "description_tooltip": null,
            "layout": "IPY_MODEL_a23bc1314616477eb7e6d20394d0653c",
            "max": 2471645608,
            "min": 0,
            "orientation": "horizontal",
            "style": "IPY_MODEL_622e7757004b4b2d9875c13f9973f4c7",
            "value": 2471645608
          }
        },
        "2c2744a237d7430b90a1a5cb9510f3d3": {
          "model_module": "@jupyter-widgets/base",
          "model_module_version": "1.2.0",
          "model_name": "LayoutModel",
          "state": {
            "_model_module": "@jupyter-widgets/base",
            "_model_module_version": "1.2.0",
            "_model_name": "LayoutModel",
            "_view_count": null,
            "_view_module": "@jupyter-widgets/base",
            "_view_module_version": "1.2.0",
            "_view_name": "LayoutView",
            "align_content": null,
            "align_items": null,
            "align_self": null,
            "border": null,
            "bottom": null,
            "display": null,
            "flex": null,
            "flex_flow": null,
            "grid_area": null,
            "grid_auto_columns": null,
            "grid_auto_flow": null,
            "grid_auto_rows": null,
            "grid_column": null,
            "grid_gap": null,
            "grid_row": null,
            "grid_template_areas": null,
            "grid_template_columns": null,
            "grid_template_rows": null,
            "height": null,
            "justify_content": null,
            "justify_items": null,
            "left": null,
            "margin": null,
            "max_height": null,
            "max_width": null,
            "min_height": null,
            "min_width": null,
            "object_fit": null,
            "object_position": null,
            "order": null,
            "overflow": null,
            "overflow_x": null,
            "overflow_y": null,
            "padding": null,
            "right": null,
            "top": null,
            "visibility": null,
            "width": null
          }
        },
        "2d2689b84713411ab2b3fe3b5f4ec9e3": {
          "model_module": "@jupyter-widgets/controls",
          "model_module_version": "1.5.0",
          "model_name": "HTMLModel",
          "state": {
            "_dom_classes": [],
            "_model_module": "@jupyter-widgets/controls",
            "_model_module_version": "1.5.0",
            "_model_name": "HTMLModel",
            "_view_count": null,
            "_view_module": "@jupyter-widgets/controls",
            "_view_module_version": "1.5.0",
            "_view_name": "HTMLView",
            "description": "",
            "description_tooltip": null,
            "layout": "IPY_MODEL_12914af507d040a7b6f594868d2da4ed",
            "placeholder": "​",
            "style": "IPY_MODEL_ead17f5eb118484cb4c51e07507fa34b",
            "value": " 189/189 [00:00&lt;00:00, 10.5kB/s]"
          }
        },
        "30b4dd33f9e44af5a3b79016914e7834": {
          "model_module": "@jupyter-widgets/controls",
          "model_module_version": "1.5.0",
          "model_name": "DescriptionStyleModel",
          "state": {
            "_model_module": "@jupyter-widgets/controls",
            "_model_module_version": "1.5.0",
            "_model_name": "DescriptionStyleModel",
            "_view_count": null,
            "_view_module": "@jupyter-widgets/base",
            "_view_module_version": "1.2.0",
            "_view_name": "StyleView",
            "description_width": ""
          }
        },
        "36e539a313bf492585f329f2768704f6": {
          "model_module": "@jupyter-widgets/base",
          "model_module_version": "1.2.0",
          "model_name": "LayoutModel",
          "state": {
            "_model_module": "@jupyter-widgets/base",
            "_model_module_version": "1.2.0",
            "_model_name": "LayoutModel",
            "_view_count": null,
            "_view_module": "@jupyter-widgets/base",
            "_view_module_version": "1.2.0",
            "_view_name": "LayoutView",
            "align_content": null,
            "align_items": null,
            "align_self": null,
            "border": null,
            "bottom": null,
            "display": null,
            "flex": null,
            "flex_flow": null,
            "grid_area": null,
            "grid_auto_columns": null,
            "grid_auto_flow": null,
            "grid_auto_rows": null,
            "grid_column": null,
            "grid_gap": null,
            "grid_row": null,
            "grid_template_areas": null,
            "grid_template_columns": null,
            "grid_template_rows": null,
            "height": null,
            "justify_content": null,
            "justify_items": null,
            "left": null,
            "margin": null,
            "max_height": null,
            "max_width": null,
            "min_height": null,
            "min_width": null,
            "object_fit": null,
            "object_position": null,
            "order": null,
            "overflow": null,
            "overflow_x": null,
            "overflow_y": null,
            "padding": null,
            "right": null,
            "top": null,
            "visibility": null,
            "width": null
          }
        },
        "39e253f524304151929155721d5012de": {
          "model_module": "@jupyter-widgets/controls",
          "model_module_version": "1.5.0",
          "model_name": "HTMLModel",
          "state": {
            "_dom_classes": [],
            "_model_module": "@jupyter-widgets/controls",
            "_model_module_version": "1.5.0",
            "_model_name": "HTMLModel",
            "_view_count": null,
            "_view_module": "@jupyter-widgets/controls",
            "_view_module_version": "1.5.0",
            "_view_name": "HTMLView",
            "description": "",
            "description_tooltip": null,
            "layout": "IPY_MODEL_16b00086aa0a475ea018cfd7ea244f16",
            "placeholder": "​",
            "style": "IPY_MODEL_8364327ebbc849a39b895ba16e2f141e",
            "value": " 54.5k/54.5k [00:00&lt;00:00, 2.35MB/s]"
          }
        },
        "40e008e2e86546d4bd1bec0681e46ecd": {
          "model_module": "@jupyter-widgets/controls",
          "model_module_version": "1.5.0",
          "model_name": "DescriptionStyleModel",
          "state": {
            "_model_module": "@jupyter-widgets/controls",
            "_model_module_version": "1.5.0",
            "_model_name": "DescriptionStyleModel",
            "_view_count": null,
            "_view_module": "@jupyter-widgets/base",
            "_view_module_version": "1.2.0",
            "_view_name": "StyleView",
            "description_width": ""
          }
        },
        "43dd6d0b6d474a4984515649a47a4504": {
          "model_module": "@jupyter-widgets/controls",
          "model_module_version": "1.5.0",
          "model_name": "HTMLModel",
          "state": {
            "_dom_classes": [],
            "_model_module": "@jupyter-widgets/controls",
            "_model_module_version": "1.5.0",
            "_model_name": "HTMLModel",
            "_view_count": null,
            "_view_module": "@jupyter-widgets/controls",
            "_view_module_version": "1.5.0",
            "_view_name": "HTMLView",
            "description": "",
            "description_tooltip": null,
            "layout": "IPY_MODEL_f734c20b90c84319b85d5d0e54e09a4c",
            "placeholder": "​",
            "style": "IPY_MODEL_901fe08f9b59426bb8b9c5500e2e3fd5",
            "value": " 2.47G/2.47G [01:00&lt;00:00, 42.3MB/s]"
          }
        },
        "440ef9792ac9492ea08edb2f455bb53a": {
          "model_module": "@jupyter-widgets/base",
          "model_module_version": "1.2.0",
          "model_name": "LayoutModel",
          "state": {
            "_model_module": "@jupyter-widgets/base",
            "_model_module_version": "1.2.0",
            "_model_name": "LayoutModel",
            "_view_count": null,
            "_view_module": "@jupyter-widgets/base",
            "_view_module_version": "1.2.0",
            "_view_name": "LayoutView",
            "align_content": null,
            "align_items": null,
            "align_self": null,
            "border": null,
            "bottom": null,
            "display": null,
            "flex": null,
            "flex_flow": null,
            "grid_area": null,
            "grid_auto_columns": null,
            "grid_auto_flow": null,
            "grid_auto_rows": null,
            "grid_column": null,
            "grid_gap": null,
            "grid_row": null,
            "grid_template_areas": null,
            "grid_template_columns": null,
            "grid_template_rows": null,
            "height": null,
            "justify_content": null,
            "justify_items": null,
            "left": null,
            "margin": null,
            "max_height": null,
            "max_width": null,
            "min_height": null,
            "min_width": null,
            "object_fit": null,
            "object_position": null,
            "order": null,
            "overflow": null,
            "overflow_x": null,
            "overflow_y": null,
            "padding": null,
            "right": null,
            "top": null,
            "visibility": null,
            "width": null
          }
        },
        "45f7d220ceca405ab1b9ccb907e43451": {
          "model_module": "@jupyter-widgets/controls",
          "model_module_version": "1.5.0",
          "model_name": "ProgressStyleModel",
          "state": {
            "_model_module": "@jupyter-widgets/controls",
            "_model_module_version": "1.5.0",
            "_model_name": "ProgressStyleModel",
            "_view_count": null,
            "_view_module": "@jupyter-widgets/base",
            "_view_module_version": "1.2.0",
            "_view_name": "StyleView",
            "bar_color": null,
            "description_width": ""
          }
        },
        "47abe6b0d50a44d2a8af98d897da8a7c": {
          "model_module": "@jupyter-widgets/controls",
          "model_module_version": "1.5.0",
          "model_name": "HTMLModel",
          "state": {
            "_dom_classes": [],
            "_model_module": "@jupyter-widgets/controls",
            "_model_module_version": "1.5.0",
            "_model_name": "HTMLModel",
            "_view_count": null,
            "_view_module": "@jupyter-widgets/controls",
            "_view_module_version": "1.5.0",
            "_view_name": "HTMLView",
            "description": "",
            "description_tooltip": null,
            "layout": "IPY_MODEL_836bc39c89704c97b0d795ec8baae046",
            "placeholder": "​",
            "style": "IPY_MODEL_866fc535ecef418a94ebf647a6f25663",
            "value": "tokenizer.json: 100%"
          }
        },
        "47c1327f5bb64a5ab0e18a8afd7e610c": {
          "model_module": "@jupyter-widgets/controls",
          "model_module_version": "1.5.0",
          "model_name": "DescriptionStyleModel",
          "state": {
            "_model_module": "@jupyter-widgets/controls",
            "_model_module_version": "1.5.0",
            "_model_name": "DescriptionStyleModel",
            "_view_count": null,
            "_view_module": "@jupyter-widgets/base",
            "_view_module_version": "1.2.0",
            "_view_name": "StyleView",
            "description_width": ""
          }
        },
        "4a4d06dafc0b4922838995f6e33c04f4": {
          "model_module": "@jupyter-widgets/controls",
          "model_module_version": "1.5.0",
          "model_name": "ProgressStyleModel",
          "state": {
            "_model_module": "@jupyter-widgets/controls",
            "_model_module_version": "1.5.0",
            "_model_name": "ProgressStyleModel",
            "_view_count": null,
            "_view_module": "@jupyter-widgets/base",
            "_view_module_version": "1.2.0",
            "_view_name": "StyleView",
            "bar_color": null,
            "description_width": ""
          }
        },
        "4afbd7d179614afb8210e7b57e9b3d6b": {
          "model_module": "@jupyter-widgets/base",
          "model_module_version": "1.2.0",
          "model_name": "LayoutModel",
          "state": {
            "_model_module": "@jupyter-widgets/base",
            "_model_module_version": "1.2.0",
            "_model_name": "LayoutModel",
            "_view_count": null,
            "_view_module": "@jupyter-widgets/base",
            "_view_module_version": "1.2.0",
            "_view_name": "LayoutView",
            "align_content": null,
            "align_items": null,
            "align_self": null,
            "border": null,
            "bottom": null,
            "display": null,
            "flex": null,
            "flex_flow": null,
            "grid_area": null,
            "grid_auto_columns": null,
            "grid_auto_flow": null,
            "grid_auto_rows": null,
            "grid_column": null,
            "grid_gap": null,
            "grid_row": null,
            "grid_template_areas": null,
            "grid_template_columns": null,
            "grid_template_rows": null,
            "height": null,
            "justify_content": null,
            "justify_items": null,
            "left": null,
            "margin": null,
            "max_height": null,
            "max_width": null,
            "min_height": null,
            "min_width": null,
            "object_fit": null,
            "object_position": null,
            "order": null,
            "overflow": null,
            "overflow_x": null,
            "overflow_y": null,
            "padding": null,
            "right": null,
            "top": null,
            "visibility": null,
            "width": null
          }
        },
        "568a35855b564295866711eec94084dc": {
          "model_module": "@jupyter-widgets/controls",
          "model_module_version": "1.5.0",
          "model_name": "HBoxModel",
          "state": {
            "_dom_classes": [],
            "_model_module": "@jupyter-widgets/controls",
            "_model_module_version": "1.5.0",
            "_model_name": "HBoxModel",
            "_view_count": null,
            "_view_module": "@jupyter-widgets/controls",
            "_view_module_version": "1.5.0",
            "_view_name": "HBoxView",
            "box_style": "",
            "children": [
              "IPY_MODEL_ee9dfe3ab48d4b4399ea2c4385fee33b",
              "IPY_MODEL_ea9c616d09254e3d951dc60a71c7045c",
              "IPY_MODEL_c195b962763f4c318674b0b30b1d7aaa"
            ],
            "layout": "IPY_MODEL_cbb8f25e20254cedbd2d85f95c6f30bc"
          }
        },
        "579f0402d5a84a09a273b37b4df559ec": {
          "model_module": "@jupyter-widgets/base",
          "model_module_version": "1.2.0",
          "model_name": "LayoutModel",
          "state": {
            "_model_module": "@jupyter-widgets/base",
            "_model_module_version": "1.2.0",
            "_model_name": "LayoutModel",
            "_view_count": null,
            "_view_module": "@jupyter-widgets/base",
            "_view_module_version": "1.2.0",
            "_view_name": "LayoutView",
            "align_content": null,
            "align_items": null,
            "align_self": null,
            "border": null,
            "bottom": null,
            "display": null,
            "flex": null,
            "flex_flow": null,
            "grid_area": null,
            "grid_auto_columns": null,
            "grid_auto_flow": null,
            "grid_auto_rows": null,
            "grid_column": null,
            "grid_gap": null,
            "grid_row": null,
            "grid_template_areas": null,
            "grid_template_columns": null,
            "grid_template_rows": null,
            "height": null,
            "justify_content": null,
            "justify_items": null,
            "left": null,
            "margin": null,
            "max_height": null,
            "max_width": null,
            "min_height": null,
            "min_width": null,
            "object_fit": null,
            "object_position": null,
            "order": null,
            "overflow": null,
            "overflow_x": null,
            "overflow_y": null,
            "padding": null,
            "right": null,
            "top": null,
            "visibility": null,
            "width": null
          }
        },
        "61d9f6f162b549b79fff51177b044d62": {
          "model_module": "@jupyter-widgets/controls",
          "model_module_version": "1.5.0",
          "model_name": "DescriptionStyleModel",
          "state": {
            "_model_module": "@jupyter-widgets/controls",
            "_model_module_version": "1.5.0",
            "_model_name": "DescriptionStyleModel",
            "_view_count": null,
            "_view_module": "@jupyter-widgets/base",
            "_view_module_version": "1.2.0",
            "_view_name": "StyleView",
            "description_width": ""
          }
        },
        "622e7757004b4b2d9875c13f9973f4c7": {
          "model_module": "@jupyter-widgets/controls",
          "model_module_version": "1.5.0",
          "model_name": "ProgressStyleModel",
          "state": {
            "_model_module": "@jupyter-widgets/controls",
            "_model_module_version": "1.5.0",
            "_model_name": "ProgressStyleModel",
            "_view_count": null,
            "_view_module": "@jupyter-widgets/base",
            "_view_module_version": "1.2.0",
            "_view_name": "StyleView",
            "bar_color": null,
            "description_width": ""
          }
        },
        "67cfceca657c4570b06ed45aa3d7ad1f": {
          "model_module": "@jupyter-widgets/controls",
          "model_module_version": "1.5.0",
          "model_name": "HTMLModel",
          "state": {
            "_dom_classes": [],
            "_model_module": "@jupyter-widgets/controls",
            "_model_module_version": "1.5.0",
            "_model_name": "HTMLModel",
            "_view_count": null,
            "_view_module": "@jupyter-widgets/controls",
            "_view_module_version": "1.5.0",
            "_view_name": "HTMLView",
            "description": "",
            "description_tooltip": null,
            "layout": "IPY_MODEL_7ed7eb972406402a8d7e45516bd87b08",
            "placeholder": "​",
            "style": "IPY_MODEL_eb903e352aed446894ea92a6473d97be",
            "value": "special_tokens_map.json: 100%"
          }
        },
        "71e2ff6203d24fbaac4d3acaec8c6bf8": {
          "model_module": "@jupyter-widgets/controls",
          "model_module_version": "1.5.0",
          "model_name": "DescriptionStyleModel",
          "state": {
            "_model_module": "@jupyter-widgets/controls",
            "_model_module_version": "1.5.0",
            "_model_name": "DescriptionStyleModel",
            "_view_count": null,
            "_view_module": "@jupyter-widgets/base",
            "_view_module_version": "1.2.0",
            "_view_name": "StyleView",
            "description_width": ""
          }
        },
        "7b0c55b2e9a041b4be7646b0cb3d7fdc": {
          "model_module": "@jupyter-widgets/base",
          "model_module_version": "1.2.0",
          "model_name": "LayoutModel",
          "state": {
            "_model_module": "@jupyter-widgets/base",
            "_model_module_version": "1.2.0",
            "_model_name": "LayoutModel",
            "_view_count": null,
            "_view_module": "@jupyter-widgets/base",
            "_view_module_version": "1.2.0",
            "_view_name": "LayoutView",
            "align_content": null,
            "align_items": null,
            "align_self": null,
            "border": null,
            "bottom": null,
            "display": null,
            "flex": null,
            "flex_flow": null,
            "grid_area": null,
            "grid_auto_columns": null,
            "grid_auto_flow": null,
            "grid_auto_rows": null,
            "grid_column": null,
            "grid_gap": null,
            "grid_row": null,
            "grid_template_areas": null,
            "grid_template_columns": null,
            "grid_template_rows": null,
            "height": null,
            "justify_content": null,
            "justify_items": null,
            "left": null,
            "margin": null,
            "max_height": null,
            "max_width": null,
            "min_height": null,
            "min_width": null,
            "object_fit": null,
            "object_position": null,
            "order": null,
            "overflow": null,
            "overflow_x": null,
            "overflow_y": null,
            "padding": null,
            "right": null,
            "top": null,
            "visibility": null,
            "width": null
          }
        },
        "7b45b25c8b3746b9ae39063e4ee7354e": {
          "model_module": "@jupyter-widgets/controls",
          "model_module_version": "1.5.0",
          "model_name": "HBoxModel",
          "state": {
            "_dom_classes": [],
            "_model_module": "@jupyter-widgets/controls",
            "_model_module_version": "1.5.0",
            "_model_name": "HBoxModel",
            "_view_count": null,
            "_view_module": "@jupyter-widgets/controls",
            "_view_module_version": "1.5.0",
            "_view_name": "HBoxView",
            "box_style": "",
            "children": [
              "IPY_MODEL_e3fa4808be614542a3b07f25394dff07",
              "IPY_MODEL_e5639de15d5b48448b4e273b7dbbc91b",
              "IPY_MODEL_2d2689b84713411ab2b3fe3b5f4ec9e3"
            ],
            "layout": "IPY_MODEL_8235dd92d20e48908747851886b68860"
          }
        },
        "7ed7eb972406402a8d7e45516bd87b08": {
          "model_module": "@jupyter-widgets/base",
          "model_module_version": "1.2.0",
          "model_name": "LayoutModel",
          "state": {
            "_model_module": "@jupyter-widgets/base",
            "_model_module_version": "1.2.0",
            "_model_name": "LayoutModel",
            "_view_count": null,
            "_view_module": "@jupyter-widgets/base",
            "_view_module_version": "1.2.0",
            "_view_name": "LayoutView",
            "align_content": null,
            "align_items": null,
            "align_self": null,
            "border": null,
            "bottom": null,
            "display": null,
            "flex": null,
            "flex_flow": null,
            "grid_area": null,
            "grid_auto_columns": null,
            "grid_auto_flow": null,
            "grid_auto_rows": null,
            "grid_column": null,
            "grid_gap": null,
            "grid_row": null,
            "grid_template_areas": null,
            "grid_template_columns": null,
            "grid_template_rows": null,
            "height": null,
            "justify_content": null,
            "justify_items": null,
            "left": null,
            "margin": null,
            "max_height": null,
            "max_width": null,
            "min_height": null,
            "min_width": null,
            "object_fit": null,
            "object_position": null,
            "order": null,
            "overflow": null,
            "overflow_x": null,
            "overflow_y": null,
            "padding": null,
            "right": null,
            "top": null,
            "visibility": null,
            "width": null
          }
        },
        "8235dd92d20e48908747851886b68860": {
          "model_module": "@jupyter-widgets/base",
          "model_module_version": "1.2.0",
          "model_name": "LayoutModel",
          "state": {
            "_model_module": "@jupyter-widgets/base",
            "_model_module_version": "1.2.0",
            "_model_name": "LayoutModel",
            "_view_count": null,
            "_view_module": "@jupyter-widgets/base",
            "_view_module_version": "1.2.0",
            "_view_name": "LayoutView",
            "align_content": null,
            "align_items": null,
            "align_self": null,
            "border": null,
            "bottom": null,
            "display": null,
            "flex": null,
            "flex_flow": null,
            "grid_area": null,
            "grid_auto_columns": null,
            "grid_auto_flow": null,
            "grid_auto_rows": null,
            "grid_column": null,
            "grid_gap": null,
            "grid_row": null,
            "grid_template_areas": null,
            "grid_template_columns": null,
            "grid_template_rows": null,
            "height": null,
            "justify_content": null,
            "justify_items": null,
            "left": null,
            "margin": null,
            "max_height": null,
            "max_width": null,
            "min_height": null,
            "min_width": null,
            "object_fit": null,
            "object_position": null,
            "order": null,
            "overflow": null,
            "overflow_x": null,
            "overflow_y": null,
            "padding": null,
            "right": null,
            "top": null,
            "visibility": null,
            "width": null
          }
        },
        "8364327ebbc849a39b895ba16e2f141e": {
          "model_module": "@jupyter-widgets/controls",
          "model_module_version": "1.5.0",
          "model_name": "DescriptionStyleModel",
          "state": {
            "_model_module": "@jupyter-widgets/controls",
            "_model_module_version": "1.5.0",
            "_model_name": "DescriptionStyleModel",
            "_view_count": null,
            "_view_module": "@jupyter-widgets/base",
            "_view_module_version": "1.2.0",
            "_view_name": "StyleView",
            "description_width": ""
          }
        },
        "836bc39c89704c97b0d795ec8baae046": {
          "model_module": "@jupyter-widgets/base",
          "model_module_version": "1.2.0",
          "model_name": "LayoutModel",
          "state": {
            "_model_module": "@jupyter-widgets/base",
            "_model_module_version": "1.2.0",
            "_model_name": "LayoutModel",
            "_view_count": null,
            "_view_module": "@jupyter-widgets/base",
            "_view_module_version": "1.2.0",
            "_view_name": "LayoutView",
            "align_content": null,
            "align_items": null,
            "align_self": null,
            "border": null,
            "bottom": null,
            "display": null,
            "flex": null,
            "flex_flow": null,
            "grid_area": null,
            "grid_auto_columns": null,
            "grid_auto_flow": null,
            "grid_auto_rows": null,
            "grid_column": null,
            "grid_gap": null,
            "grid_row": null,
            "grid_template_areas": null,
            "grid_template_columns": null,
            "grid_template_rows": null,
            "height": null,
            "justify_content": null,
            "justify_items": null,
            "left": null,
            "margin": null,
            "max_height": null,
            "max_width": null,
            "min_height": null,
            "min_width": null,
            "object_fit": null,
            "object_position": null,
            "order": null,
            "overflow": null,
            "overflow_x": null,
            "overflow_y": null,
            "padding": null,
            "right": null,
            "top": null,
            "visibility": null,
            "width": null
          }
        },
        "866fc535ecef418a94ebf647a6f25663": {
          "model_module": "@jupyter-widgets/controls",
          "model_module_version": "1.5.0",
          "model_name": "DescriptionStyleModel",
          "state": {
            "_model_module": "@jupyter-widgets/controls",
            "_model_module_version": "1.5.0",
            "_model_name": "DescriptionStyleModel",
            "_view_count": null,
            "_view_module": "@jupyter-widgets/base",
            "_view_module_version": "1.2.0",
            "_view_name": "StyleView",
            "description_width": ""
          }
        },
        "901fe08f9b59426bb8b9c5500e2e3fd5": {
          "model_module": "@jupyter-widgets/controls",
          "model_module_version": "1.5.0",
          "model_name": "DescriptionStyleModel",
          "state": {
            "_model_module": "@jupyter-widgets/controls",
            "_model_module_version": "1.5.0",
            "_model_name": "DescriptionStyleModel",
            "_view_count": null,
            "_view_module": "@jupyter-widgets/base",
            "_view_module_version": "1.2.0",
            "_view_name": "StyleView",
            "description_width": ""
          }
        },
        "97c195869e854aab95c589df42287338": {
          "model_module": "@jupyter-widgets/base",
          "model_module_version": "1.2.0",
          "model_name": "LayoutModel",
          "state": {
            "_model_module": "@jupyter-widgets/base",
            "_model_module_version": "1.2.0",
            "_model_name": "LayoutModel",
            "_view_count": null,
            "_view_module": "@jupyter-widgets/base",
            "_view_module_version": "1.2.0",
            "_view_name": "LayoutView",
            "align_content": null,
            "align_items": null,
            "align_self": null,
            "border": null,
            "bottom": null,
            "display": null,
            "flex": null,
            "flex_flow": null,
            "grid_area": null,
            "grid_auto_columns": null,
            "grid_auto_flow": null,
            "grid_auto_rows": null,
            "grid_column": null,
            "grid_gap": null,
            "grid_row": null,
            "grid_template_areas": null,
            "grid_template_columns": null,
            "grid_template_rows": null,
            "height": null,
            "justify_content": null,
            "justify_items": null,
            "left": null,
            "margin": null,
            "max_height": null,
            "max_width": null,
            "min_height": null,
            "min_width": null,
            "object_fit": null,
            "object_position": null,
            "order": null,
            "overflow": null,
            "overflow_x": null,
            "overflow_y": null,
            "padding": null,
            "right": null,
            "top": null,
            "visibility": null,
            "width": null
          }
        },
        "981bf50b06a048daafd9b4640c193923": {
          "model_module": "@jupyter-widgets/controls",
          "model_module_version": "1.5.0",
          "model_name": "HTMLModel",
          "state": {
            "_dom_classes": [],
            "_model_module": "@jupyter-widgets/controls",
            "_model_module_version": "1.5.0",
            "_model_name": "HTMLModel",
            "_view_count": null,
            "_view_module": "@jupyter-widgets/controls",
            "_view_module_version": "1.5.0",
            "_view_name": "HTMLView",
            "description": "",
            "description_tooltip": null,
            "layout": "IPY_MODEL_4afbd7d179614afb8210e7b57e9b3d6b",
            "placeholder": "​",
            "style": "IPY_MODEL_40e008e2e86546d4bd1bec0681e46ecd",
            "value": "tokenizer_config.json: 100%"
          }
        },
        "a23bc1314616477eb7e6d20394d0653c": {
          "model_module": "@jupyter-widgets/base",
          "model_module_version": "1.2.0",
          "model_name": "LayoutModel",
          "state": {
            "_model_module": "@jupyter-widgets/base",
            "_model_module_version": "1.2.0",
            "_model_name": "LayoutModel",
            "_view_count": null,
            "_view_module": "@jupyter-widgets/base",
            "_view_module_version": "1.2.0",
            "_view_name": "LayoutView",
            "align_content": null,
            "align_items": null,
            "align_self": null,
            "border": null,
            "bottom": null,
            "display": null,
            "flex": null,
            "flex_flow": null,
            "grid_area": null,
            "grid_auto_columns": null,
            "grid_auto_flow": null,
            "grid_auto_rows": null,
            "grid_column": null,
            "grid_gap": null,
            "grid_row": null,
            "grid_template_areas": null,
            "grid_template_columns": null,
            "grid_template_rows": null,
            "height": null,
            "justify_content": null,
            "justify_items": null,
            "left": null,
            "margin": null,
            "max_height": null,
            "max_width": null,
            "min_height": null,
            "min_width": null,
            "object_fit": null,
            "object_position": null,
            "order": null,
            "overflow": null,
            "overflow_x": null,
            "overflow_y": null,
            "padding": null,
            "right": null,
            "top": null,
            "visibility": null,
            "width": null
          }
        },
        "a240238241fa47d589ee98dd894acc1f": {
          "model_module": "@jupyter-widgets/controls",
          "model_module_version": "1.5.0",
          "model_name": "HTMLModel",
          "state": {
            "_dom_classes": [],
            "_model_module": "@jupyter-widgets/controls",
            "_model_module_version": "1.5.0",
            "_model_name": "HTMLModel",
            "_view_count": null,
            "_view_module": "@jupyter-widgets/controls",
            "_view_module_version": "1.5.0",
            "_view_name": "HTMLView",
            "description": "",
            "description_tooltip": null,
            "layout": "IPY_MODEL_36e539a313bf492585f329f2768704f6",
            "placeholder": "​",
            "style": "IPY_MODEL_47c1327f5bb64a5ab0e18a8afd7e610c",
            "value": "model.safetensors: 100%"
          }
        },
        "a292672bc4b445c9ac40028551975b2a": {
          "model_module": "@jupyter-widgets/base",
          "model_module_version": "1.2.0",
          "model_name": "LayoutModel",
          "state": {
            "_model_module": "@jupyter-widgets/base",
            "_model_module_version": "1.2.0",
            "_model_name": "LayoutModel",
            "_view_count": null,
            "_view_module": "@jupyter-widgets/base",
            "_view_module_version": "1.2.0",
            "_view_name": "LayoutView",
            "align_content": null,
            "align_items": null,
            "align_self": null,
            "border": null,
            "bottom": null,
            "display": null,
            "flex": null,
            "flex_flow": null,
            "grid_area": null,
            "grid_auto_columns": null,
            "grid_auto_flow": null,
            "grid_auto_rows": null,
            "grid_column": null,
            "grid_gap": null,
            "grid_row": null,
            "grid_template_areas": null,
            "grid_template_columns": null,
            "grid_template_rows": null,
            "height": null,
            "justify_content": null,
            "justify_items": null,
            "left": null,
            "margin": null,
            "max_height": null,
            "max_width": null,
            "min_height": null,
            "min_width": null,
            "object_fit": null,
            "object_position": null,
            "order": null,
            "overflow": null,
            "overflow_x": null,
            "overflow_y": null,
            "padding": null,
            "right": null,
            "top": null,
            "visibility": null,
            "width": null
          }
        },
        "a395c64c28eb46039b2fddd7d70aa2ee": {
          "model_module": "@jupyter-widgets/controls",
          "model_module_version": "1.5.0",
          "model_name": "HBoxModel",
          "state": {
            "_dom_classes": [],
            "_model_module": "@jupyter-widgets/controls",
            "_model_module_version": "1.5.0",
            "_model_name": "HBoxModel",
            "_view_count": null,
            "_view_module": "@jupyter-widgets/controls",
            "_view_module_version": "1.5.0",
            "_view_name": "HBoxView",
            "box_style": "",
            "children": [
              "IPY_MODEL_67cfceca657c4570b06ed45aa3d7ad1f",
              "IPY_MODEL_b8e1690339634018ad504170016b14be",
              "IPY_MODEL_b024fa58ec12469797ab37f72eab351f"
            ],
            "layout": "IPY_MODEL_579f0402d5a84a09a273b37b4df559ec"
          }
        },
        "b024fa58ec12469797ab37f72eab351f": {
          "model_module": "@jupyter-widgets/controls",
          "model_module_version": "1.5.0",
          "model_name": "HTMLModel",
          "state": {
            "_dom_classes": [],
            "_model_module": "@jupyter-widgets/controls",
            "_model_module_version": "1.5.0",
            "_model_name": "HTMLModel",
            "_view_count": null,
            "_view_module": "@jupyter-widgets/controls",
            "_view_module_version": "1.5.0",
            "_view_name": "HTMLView",
            "description": "",
            "description_tooltip": null,
            "layout": "IPY_MODEL_0019b1da4478447b8242f49508686bf5",
            "placeholder": "​",
            "style": "IPY_MODEL_61d9f6f162b549b79fff51177b044d62",
            "value": " 296/296 [00:00&lt;00:00, 6.05kB/s]"
          }
        },
        "b8158866ccc04619ada4af6520debf02": {
          "model_module": "@jupyter-widgets/controls",
          "model_module_version": "1.5.0",
          "model_name": "FloatProgressModel",
          "state": {
            "_dom_classes": [],
            "_model_module": "@jupyter-widgets/controls",
            "_model_module_version": "1.5.0",
            "_model_name": "FloatProgressModel",
            "_view_count": null,
            "_view_module": "@jupyter-widgets/controls",
            "_view_module_version": "1.5.0",
            "_view_name": "ProgressView",
            "bar_style": "success",
            "description": "",
            "description_tooltip": null,
            "layout": "IPY_MODEL_2c2744a237d7430b90a1a5cb9510f3d3",
            "max": 9085657,
            "min": 0,
            "orientation": "horizontal",
            "style": "IPY_MODEL_4a4d06dafc0b4922838995f6e33c04f4",
            "value": 9085657
          }
        },
        "b8e1690339634018ad504170016b14be": {
          "model_module": "@jupyter-widgets/controls",
          "model_module_version": "1.5.0",
          "model_name": "FloatProgressModel",
          "state": {
            "_dom_classes": [],
            "_model_module": "@jupyter-widgets/controls",
            "_model_module_version": "1.5.0",
            "_model_name": "FloatProgressModel",
            "_view_count": null,
            "_view_module": "@jupyter-widgets/controls",
            "_view_module_version": "1.5.0",
            "_view_name": "ProgressView",
            "bar_style": "success",
            "description": "",
            "description_tooltip": null,
            "layout": "IPY_MODEL_13c22e2da5074ce986a72ef09f8030d3",
            "max": 296,
            "min": 0,
            "orientation": "horizontal",
            "style": "IPY_MODEL_cb8862d5d88f45db9a2403112e20a8ff",
            "value": 296
          }
        },
        "bfd36ce33119462387fa77068f94e86a": {
          "model_module": "@jupyter-widgets/controls",
          "model_module_version": "1.5.0",
          "model_name": "FloatProgressModel",
          "state": {
            "_dom_classes": [],
            "_model_module": "@jupyter-widgets/controls",
            "_model_module_version": "1.5.0",
            "_model_name": "FloatProgressModel",
            "_view_count": null,
            "_view_module": "@jupyter-widgets/controls",
            "_view_module_version": "1.5.0",
            "_view_name": "ProgressView",
            "bar_style": "success",
            "description": "",
            "description_tooltip": null,
            "layout": "IPY_MODEL_da70cc07bbb74890825117c6e94bb3e6",
            "max": 54528,
            "min": 0,
            "orientation": "horizontal",
            "style": "IPY_MODEL_45f7d220ceca405ab1b9ccb907e43451",
            "value": 54528
          }
        },
        "c195b962763f4c318674b0b30b1d7aaa": {
          "model_module": "@jupyter-widgets/controls",
          "model_module_version": "1.5.0",
          "model_name": "HTMLModel",
          "state": {
            "_dom_classes": [],
            "_model_module": "@jupyter-widgets/controls",
            "_model_module_version": "1.5.0",
            "_model_name": "HTMLModel",
            "_view_count": null,
            "_view_module": "@jupyter-widgets/controls",
            "_view_module_version": "1.5.0",
            "_view_name": "HTMLView",
            "description": "",
            "description_tooltip": null,
            "layout": "IPY_MODEL_1b567c699f3043b0a2328c2ce861df4b",
            "placeholder": "​",
            "style": "IPY_MODEL_21a8adee6ab14949ac156ca82bc16a6a",
            "value": " 877/877 [00:00&lt;00:00, 22.8kB/s]"
          }
        },
        "cb8862d5d88f45db9a2403112e20a8ff": {
          "model_module": "@jupyter-widgets/controls",
          "model_module_version": "1.5.0",
          "model_name": "ProgressStyleModel",
          "state": {
            "_model_module": "@jupyter-widgets/controls",
            "_model_module_version": "1.5.0",
            "_model_name": "ProgressStyleModel",
            "_view_count": null,
            "_view_module": "@jupyter-widgets/base",
            "_view_module_version": "1.2.0",
            "_view_name": "StyleView",
            "bar_color": null,
            "description_width": ""
          }
        },
        "cbb8f25e20254cedbd2d85f95c6f30bc": {
          "model_module": "@jupyter-widgets/base",
          "model_module_version": "1.2.0",
          "model_name": "LayoutModel",
          "state": {
            "_model_module": "@jupyter-widgets/base",
            "_model_module_version": "1.2.0",
            "_model_name": "LayoutModel",
            "_view_count": null,
            "_view_module": "@jupyter-widgets/base",
            "_view_module_version": "1.2.0",
            "_view_name": "LayoutView",
            "align_content": null,
            "align_items": null,
            "align_self": null,
            "border": null,
            "bottom": null,
            "display": null,
            "flex": null,
            "flex_flow": null,
            "grid_area": null,
            "grid_auto_columns": null,
            "grid_auto_flow": null,
            "grid_auto_rows": null,
            "grid_column": null,
            "grid_gap": null,
            "grid_row": null,
            "grid_template_areas": null,
            "grid_template_columns": null,
            "grid_template_rows": null,
            "height": null,
            "justify_content": null,
            "justify_items": null,
            "left": null,
            "margin": null,
            "max_height": null,
            "max_width": null,
            "min_height": null,
            "min_width": null,
            "object_fit": null,
            "object_position": null,
            "order": null,
            "overflow": null,
            "overflow_x": null,
            "overflow_y": null,
            "padding": null,
            "right": null,
            "top": null,
            "visibility": null,
            "width": null
          }
        },
        "cf3eb539e0c74d5494149f6ddcc91841": {
          "model_module": "@jupyter-widgets/controls",
          "model_module_version": "1.5.0",
          "model_name": "HBoxModel",
          "state": {
            "_dom_classes": [],
            "_model_module": "@jupyter-widgets/controls",
            "_model_module_version": "1.5.0",
            "_model_name": "HBoxModel",
            "_view_count": null,
            "_view_module": "@jupyter-widgets/controls",
            "_view_module_version": "1.5.0",
            "_view_name": "HBoxView",
            "box_style": "",
            "children": [
              "IPY_MODEL_47abe6b0d50a44d2a8af98d897da8a7c",
              "IPY_MODEL_b8158866ccc04619ada4af6520debf02",
              "IPY_MODEL_d15d08556abe42e895b5340608e8890a"
            ],
            "layout": "IPY_MODEL_440ef9792ac9492ea08edb2f455bb53a"
          }
        },
        "d15d08556abe42e895b5340608e8890a": {
          "model_module": "@jupyter-widgets/controls",
          "model_module_version": "1.5.0",
          "model_name": "HTMLModel",
          "state": {
            "_dom_classes": [],
            "_model_module": "@jupyter-widgets/controls",
            "_model_module_version": "1.5.0",
            "_model_name": "HTMLModel",
            "_view_count": null,
            "_view_module": "@jupyter-widgets/controls",
            "_view_module_version": "1.5.0",
            "_view_name": "HTMLView",
            "description": "",
            "description_tooltip": null,
            "layout": "IPY_MODEL_97c195869e854aab95c589df42287338",
            "placeholder": "​",
            "style": "IPY_MODEL_30b4dd33f9e44af5a3b79016914e7834",
            "value": " 9.09M/9.09M [00:00&lt;00:00, 20.3MB/s]"
          }
        },
        "d44a1431842d473bb8695e03808140c9": {
          "model_module": "@jupyter-widgets/controls",
          "model_module_version": "1.5.0",
          "model_name": "HBoxModel",
          "state": {
            "_dom_classes": [],
            "_model_module": "@jupyter-widgets/controls",
            "_model_module_version": "1.5.0",
            "_model_name": "HBoxModel",
            "_view_count": null,
            "_view_module": "@jupyter-widgets/controls",
            "_view_module_version": "1.5.0",
            "_view_name": "HBoxView",
            "box_style": "",
            "children": [
              "IPY_MODEL_981bf50b06a048daafd9b4640c193923",
              "IPY_MODEL_bfd36ce33119462387fa77068f94e86a",
              "IPY_MODEL_39e253f524304151929155721d5012de"
            ],
            "layout": "IPY_MODEL_a292672bc4b445c9ac40028551975b2a"
          }
        },
        "da70cc07bbb74890825117c6e94bb3e6": {
          "model_module": "@jupyter-widgets/base",
          "model_module_version": "1.2.0",
          "model_name": "LayoutModel",
          "state": {
            "_model_module": "@jupyter-widgets/base",
            "_model_module_version": "1.2.0",
            "_model_name": "LayoutModel",
            "_view_count": null,
            "_view_module": "@jupyter-widgets/base",
            "_view_module_version": "1.2.0",
            "_view_name": "LayoutView",
            "align_content": null,
            "align_items": null,
            "align_self": null,
            "border": null,
            "bottom": null,
            "display": null,
            "flex": null,
            "flex_flow": null,
            "grid_area": null,
            "grid_auto_columns": null,
            "grid_auto_flow": null,
            "grid_auto_rows": null,
            "grid_column": null,
            "grid_gap": null,
            "grid_row": null,
            "grid_template_areas": null,
            "grid_template_columns": null,
            "grid_template_rows": null,
            "height": null,
            "justify_content": null,
            "justify_items": null,
            "left": null,
            "margin": null,
            "max_height": null,
            "max_width": null,
            "min_height": null,
            "min_width": null,
            "object_fit": null,
            "object_position": null,
            "order": null,
            "overflow": null,
            "overflow_x": null,
            "overflow_y": null,
            "padding": null,
            "right": null,
            "top": null,
            "visibility": null,
            "width": null
          }
        },
        "e3fa4808be614542a3b07f25394dff07": {
          "model_module": "@jupyter-widgets/controls",
          "model_module_version": "1.5.0",
          "model_name": "HTMLModel",
          "state": {
            "_dom_classes": [],
            "_model_module": "@jupyter-widgets/controls",
            "_model_module_version": "1.5.0",
            "_model_name": "HTMLModel",
            "_view_count": null,
            "_view_module": "@jupyter-widgets/controls",
            "_view_module_version": "1.5.0",
            "_view_name": "HTMLView",
            "description": "",
            "description_tooltip": null,
            "layout": "IPY_MODEL_02810c67aaca4dd8b31d9da87017e79e",
            "placeholder": "​",
            "style": "IPY_MODEL_e770c16b887e4a3cbe2e6ea73a304806",
            "value": "generation_config.json: 100%"
          }
        },
        "e5639de15d5b48448b4e273b7dbbc91b": {
          "model_module": "@jupyter-widgets/controls",
          "model_module_version": "1.5.0",
          "model_name": "FloatProgressModel",
          "state": {
            "_dom_classes": [],
            "_model_module": "@jupyter-widgets/controls",
            "_model_module_version": "1.5.0",
            "_model_name": "FloatProgressModel",
            "_view_count": null,
            "_view_module": "@jupyter-widgets/controls",
            "_view_module_version": "1.5.0",
            "_view_name": "ProgressView",
            "bar_style": "success",
            "description": "",
            "description_tooltip": null,
            "layout": "IPY_MODEL_082a9f98d33544e2825d0cb57bfe4dd5",
            "max": 189,
            "min": 0,
            "orientation": "horizontal",
            "style": "IPY_MODEL_e57ec65a45fb401496f252e0b4a5ac93",
            "value": 189
          }
        },
        "e567adb7b26b47a18254b78fb4f82806": {
          "model_module": "@jupyter-widgets/controls",
          "model_module_version": "1.5.0",
          "model_name": "ProgressStyleModel",
          "state": {
            "_model_module": "@jupyter-widgets/controls",
            "_model_module_version": "1.5.0",
            "_model_name": "ProgressStyleModel",
            "_view_count": null,
            "_view_module": "@jupyter-widgets/base",
            "_view_module_version": "1.2.0",
            "_view_name": "StyleView",
            "bar_color": null,
            "description_width": ""
          }
        },
        "e57ec65a45fb401496f252e0b4a5ac93": {
          "model_module": "@jupyter-widgets/controls",
          "model_module_version": "1.5.0",
          "model_name": "ProgressStyleModel",
          "state": {
            "_model_module": "@jupyter-widgets/controls",
            "_model_module_version": "1.5.0",
            "_model_name": "ProgressStyleModel",
            "_view_count": null,
            "_view_module": "@jupyter-widgets/base",
            "_view_module_version": "1.2.0",
            "_view_name": "StyleView",
            "bar_color": null,
            "description_width": ""
          }
        },
        "e770c16b887e4a3cbe2e6ea73a304806": {
          "model_module": "@jupyter-widgets/controls",
          "model_module_version": "1.5.0",
          "model_name": "DescriptionStyleModel",
          "state": {
            "_model_module": "@jupyter-widgets/controls",
            "_model_module_version": "1.5.0",
            "_model_name": "DescriptionStyleModel",
            "_view_count": null,
            "_view_module": "@jupyter-widgets/base",
            "_view_module_version": "1.2.0",
            "_view_name": "StyleView",
            "description_width": ""
          }
        },
        "e97197a95ebf42ef827ff8dea55265d9": {
          "model_module": "@jupyter-widgets/base",
          "model_module_version": "1.2.0",
          "model_name": "LayoutModel",
          "state": {
            "_model_module": "@jupyter-widgets/base",
            "_model_module_version": "1.2.0",
            "_model_name": "LayoutModel",
            "_view_count": null,
            "_view_module": "@jupyter-widgets/base",
            "_view_module_version": "1.2.0",
            "_view_name": "LayoutView",
            "align_content": null,
            "align_items": null,
            "align_self": null,
            "border": null,
            "bottom": null,
            "display": null,
            "flex": null,
            "flex_flow": null,
            "grid_area": null,
            "grid_auto_columns": null,
            "grid_auto_flow": null,
            "grid_auto_rows": null,
            "grid_column": null,
            "grid_gap": null,
            "grid_row": null,
            "grid_template_areas": null,
            "grid_template_columns": null,
            "grid_template_rows": null,
            "height": null,
            "justify_content": null,
            "justify_items": null,
            "left": null,
            "margin": null,
            "max_height": null,
            "max_width": null,
            "min_height": null,
            "min_width": null,
            "object_fit": null,
            "object_position": null,
            "order": null,
            "overflow": null,
            "overflow_x": null,
            "overflow_y": null,
            "padding": null,
            "right": null,
            "top": null,
            "visibility": null,
            "width": null
          }
        },
        "ea9c616d09254e3d951dc60a71c7045c": {
          "model_module": "@jupyter-widgets/controls",
          "model_module_version": "1.5.0",
          "model_name": "FloatProgressModel",
          "state": {
            "_dom_classes": [],
            "_model_module": "@jupyter-widgets/controls",
            "_model_module_version": "1.5.0",
            "_model_name": "FloatProgressModel",
            "_view_count": null,
            "_view_module": "@jupyter-widgets/controls",
            "_view_module_version": "1.5.0",
            "_view_name": "ProgressView",
            "bar_style": "success",
            "description": "",
            "description_tooltip": null,
            "layout": "IPY_MODEL_7b0c55b2e9a041b4be7646b0cb3d7fdc",
            "max": 877,
            "min": 0,
            "orientation": "horizontal",
            "style": "IPY_MODEL_e567adb7b26b47a18254b78fb4f82806",
            "value": 877
          }
        },
        "ead17f5eb118484cb4c51e07507fa34b": {
          "model_module": "@jupyter-widgets/controls",
          "model_module_version": "1.5.0",
          "model_name": "DescriptionStyleModel",
          "state": {
            "_model_module": "@jupyter-widgets/controls",
            "_model_module_version": "1.5.0",
            "_model_name": "DescriptionStyleModel",
            "_view_count": null,
            "_view_module": "@jupyter-widgets/base",
            "_view_module_version": "1.2.0",
            "_view_name": "StyleView",
            "description_width": ""
          }
        },
        "eb903e352aed446894ea92a6473d97be": {
          "model_module": "@jupyter-widgets/controls",
          "model_module_version": "1.5.0",
          "model_name": "DescriptionStyleModel",
          "state": {
            "_model_module": "@jupyter-widgets/controls",
            "_model_module_version": "1.5.0",
            "_model_name": "DescriptionStyleModel",
            "_view_count": null,
            "_view_module": "@jupyter-widgets/base",
            "_view_module_version": "1.2.0",
            "_view_name": "StyleView",
            "description_width": ""
          }
        },
        "ec1ad215f6504b829df27597568773dd": {
          "model_module": "@jupyter-widgets/base",
          "model_module_version": "1.2.0",
          "model_name": "LayoutModel",
          "state": {
            "_model_module": "@jupyter-widgets/base",
            "_model_module_version": "1.2.0",
            "_model_name": "LayoutModel",
            "_view_count": null,
            "_view_module": "@jupyter-widgets/base",
            "_view_module_version": "1.2.0",
            "_view_name": "LayoutView",
            "align_content": null,
            "align_items": null,
            "align_self": null,
            "border": null,
            "bottom": null,
            "display": null,
            "flex": null,
            "flex_flow": null,
            "grid_area": null,
            "grid_auto_columns": null,
            "grid_auto_flow": null,
            "grid_auto_rows": null,
            "grid_column": null,
            "grid_gap": null,
            "grid_row": null,
            "grid_template_areas": null,
            "grid_template_columns": null,
            "grid_template_rows": null,
            "height": null,
            "justify_content": null,
            "justify_items": null,
            "left": null,
            "margin": null,
            "max_height": null,
            "max_width": null,
            "min_height": null,
            "min_width": null,
            "object_fit": null,
            "object_position": null,
            "order": null,
            "overflow": null,
            "overflow_x": null,
            "overflow_y": null,
            "padding": null,
            "right": null,
            "top": null,
            "visibility": null,
            "width": null
          }
        },
        "ee9dfe3ab48d4b4399ea2c4385fee33b": {
          "model_module": "@jupyter-widgets/controls",
          "model_module_version": "1.5.0",
          "model_name": "HTMLModel",
          "state": {
            "_dom_classes": [],
            "_model_module": "@jupyter-widgets/controls",
            "_model_module_version": "1.5.0",
            "_model_name": "HTMLModel",
            "_view_count": null,
            "_view_module": "@jupyter-widgets/controls",
            "_view_module_version": "1.5.0",
            "_view_name": "HTMLView",
            "description": "",
            "description_tooltip": null,
            "layout": "IPY_MODEL_e97197a95ebf42ef827ff8dea55265d9",
            "placeholder": "​",
            "style": "IPY_MODEL_71e2ff6203d24fbaac4d3acaec8c6bf8",
            "value": "config.json: 100%"
          }
        },
        "f734c20b90c84319b85d5d0e54e09a4c": {
          "model_module": "@jupyter-widgets/base",
          "model_module_version": "1.2.0",
          "model_name": "LayoutModel",
          "state": {
            "_model_module": "@jupyter-widgets/base",
            "_model_module_version": "1.2.0",
            "_model_name": "LayoutModel",
            "_view_count": null,
            "_view_module": "@jupyter-widgets/base",
            "_view_module_version": "1.2.0",
            "_view_name": "LayoutView",
            "align_content": null,
            "align_items": null,
            "align_self": null,
            "border": null,
            "bottom": null,
            "display": null,
            "flex": null,
            "flex_flow": null,
            "grid_area": null,
            "grid_auto_columns": null,
            "grid_auto_flow": null,
            "grid_auto_rows": null,
            "grid_column": null,
            "grid_gap": null,
            "grid_row": null,
            "grid_template_areas": null,
            "grid_template_columns": null,
            "grid_template_rows": null,
            "height": null,
            "justify_content": null,
            "justify_items": null,
            "left": null,
            "margin": null,
            "max_height": null,
            "max_width": null,
            "min_height": null,
            "min_width": null,
            "object_fit": null,
            "object_position": null,
            "order": null,
            "overflow": null,
            "overflow_x": null,
            "overflow_y": null,
            "padding": null,
            "right": null,
            "top": null,
            "visibility": null,
            "width": null
          }
        }
      }
    }
  },
  "nbformat": 4,
  "nbformat_minor": 0
}
